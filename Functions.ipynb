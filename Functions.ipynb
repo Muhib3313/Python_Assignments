{
 "cells": [
  {
   "cell_type": "code",
   "execution_count": 13,
   "id": "4c0354c4-6f6b-4884-aa41-7e29b8c6ba20",
   "metadata": {},
   "outputs": [
    {
     "name": "stdout",
     "output_type": "stream",
     "text": [
      "the maximum number is 15\n"
     ]
    }
   ],
   "source": [
    "# task 1\n",
    "def max_num(a,b,c):\n",
    "    if a > b and a > c:\n",
    "        return a\n",
    "    elif c >= a and c >= b:\n",
    "        return c\n",
    "    else:\n",
    "        return b\n",
    "num1 = 1\n",
    "num2 = 1\n",
    "num3 = 15\n",
    "print('the maximum number is',max_num(num1,num2,num3))"
   ]
  },
  {
   "cell_type": "code",
   "execution_count": 46,
   "id": "cd88aa92-c7cd-436f-9aff-b386fb91d115",
   "metadata": {},
   "outputs": [
    {
     "name": "stdout",
     "output_type": "stream",
     "text": [
      "the sum of given list is: 47\n"
     ]
    }
   ],
   "source": [
    "# task 2\n",
    "def addition(numbers):\n",
    "    total = 0\n",
    "    for number in numbers:\n",
    "        total += number\n",
    "    return total\n",
    "nums = [1,5,12,9,20]\n",
    "print('the sum of given list is:',addition(nums))"
   ]
  },
  {
   "cell_type": "code",
   "execution_count": 64,
   "id": "ea1124f1-9c83-42a4-93bb-75e2975c6f3d",
   "metadata": {},
   "outputs": [
    {
     "name": "stdout",
     "output_type": "stream",
     "text": [
      "the multiplictaion of numbers is:  20\n"
     ]
    }
   ],
   "source": [
    "# task 3\n",
    "def multiplication(numbers):\n",
    "    multiplied = 1\n",
    "    for num in numbers:\n",
    "        multiplied *= num\n",
    "    return multiplied\n",
    "nums = [2,5,2]\n",
    "print('the multiplictaion of numbers is: ',multiplication(nums))"
   ]
  },
  {
   "cell_type": "code",
   "execution_count": 80,
   "id": "881937f0-f7d4-4f8c-b4e1-0ed61921fcab",
   "metadata": {},
   "outputs": [
    {
     "name": "stdout",
     "output_type": "stream",
     "text": [
      "the reversed string is: 4321dcba\n"
     ]
    }
   ],
   "source": [
    "# task 4\n",
    "def reverse(s):\n",
    "    return s[::-1]\n",
    "    \n",
    "rv = 'abcd1234'\n",
    "print('the reversed string is:',reverse(rv))"
   ]
  },
  {
   "cell_type": "code",
   "execution_count": 96,
   "id": "1ff08578-dc66-4344-ba89-1b53df76a26e",
   "metadata": {},
   "outputs": [
    {
     "name": "stdout",
     "output_type": "stream",
     "text": [
      "the factorial of given number is: 24\n"
     ]
    }
   ],
   "source": [
    "# Task 5\n",
    "def factorial(n):\n",
    "    if n < 0:\n",
    "        return\n",
    "    elif n == 1 or n == 0:\n",
    "        return 1\n",
    "    return n*factorial(n-1)\n",
    "num = 4\n",
    "print('the factorial of given number is:',factorial(num))"
   ]
  },
  {
   "cell_type": "code",
   "execution_count": 106,
   "id": "04c313c3-43b6-4f59-8096-b769bdac732e",
   "metadata": {},
   "outputs": [
    {
     "name": "stdout",
     "output_type": "stream",
     "text": [
      "10 is within the range 5 to 100.\n"
     ]
    }
   ],
   "source": [
    "# task 6\n",
    "def is_in_range(number,start,end):\n",
    "   return start <= number <= end\n",
    "num = 10\n",
    "range_start = 5\n",
    "range_end = 100\n",
    "if is_in_range(num,range_start,range_end):\n",
    "     print(f\"{num} is within the range {range_start} to {range_end}.\")\n",
    "else:\n",
    "    print(f\"{num} is not within the range {range_start} to {range_end}.\")"
   ]
  },
  {
   "cell_type": "code",
   "execution_count": 114,
   "id": "0634d222-dc81-451b-8401-0e608f41c96a",
   "metadata": {},
   "outputs": [
    {
     "name": "stdout",
     "output_type": "stream",
     "text": [
      "No. of Upper case characters : 2\n",
      "No. of Lower case characters : 14\n"
     ]
    }
   ],
   "source": [
    "# task 7\n",
    "def count_case_letters(s):\n",
    "    upper_count = sum(1 for char in s if char.isupper())\n",
    "    lower_count = sum(1 for char in s if char.islower())\n",
    "    \n",
    "    return {\"uppercase\": upper_count, \"lowercase\": lower_count}\n",
    "\n",
    "# Example usage\n",
    "sample_string = 'Im the Man of crises'\n",
    "result = count_case_letters(sample_string)\n",
    "\n",
    "print(f\"No. of Upper case characters : {result['uppercase']}\")\n",
    "print(f\"No. of Lower case characters : {result['lowercase']}\")\n"
   ]
  },
  {
   "cell_type": "code",
   "execution_count": 116,
   "id": "3639de18-04f9-4867-994e-9d606624c274",
   "metadata": {},
   "outputs": [
    {
     "name": "stdout",
     "output_type": "stream",
     "text": [
      "Sample List: [1, 2, 3, 3, 3, 8, 8, 3, 4, 5]\n",
      "Unique List: [1, 2, 3, 4, 5, 8]\n"
     ]
    }
   ],
   "source": [
    "# task 8\n",
    "def get_unique_elements(lst):\n",
    "    return list(set(lst))\n",
    "\n",
    "# Example usage\n",
    "sample_list = [1, 2, 3, 3, 3, 8, 8, 3, 4, 5]\n",
    "unique_list = get_unique_elements(sample_list)\n",
    "\n",
    "print(f\"Sample List: {sample_list}\")\n",
    "print(f\"Unique List: {unique_list}\")\n"
   ]
  },
  {
   "cell_type": "code",
   "execution_count": 9,
   "id": "30fb739b-fda8-42fd-80bb-722e0f18131f",
   "metadata": {},
   "outputs": [
    {
     "name": "stdout",
     "output_type": "stream",
     "text": [
      "19 is a prime number.\n"
     ]
    }
   ],
   "source": [
    "# task 9\n",
    "def is_prime(number):\n",
    "\n",
    "    if number <= 1:\n",
    "        return False\n",
    "    for i in range(2, int(number ** 0.5) + 1):\n",
    "        if number % i == 0:\n",
    "            return False\n",
    "    return True\n",
    "\n",
    "num = 19\n",
    "if is_prime(num):\n",
    "    print(f\"{num} is a prime number.\")\n",
    "else:\n",
    "    print(f\"{num} is not a prime number.\")"
   ]
  },
  {
   "cell_type": "code",
   "execution_count": 19,
   "id": "e0a5ca5b-0f61-42dd-a102-b90ecfe5d889",
   "metadata": {},
   "outputs": [
    {
     "name": "stdout",
     "output_type": "stream",
     "text": [
      "even numbers [2, 4, 6, 8, 10, 12, 14]\n"
     ]
    }
   ],
   "source": [
    "# task 10\n",
    "def is_even(lst):\n",
    "    even_numbers = [num for num in lst if num %2==0]\n",
    "    print('even numbers',even_numbers)\n",
    "\n",
    "sample_lst = [1,2,3,4,5,6,7,8,9,10,12,14]\n",
    "is_even(sample_lst)"
   ]
  },
  {
   "cell_type": "code",
   "execution_count": 35,
   "id": "4fef6dc5-e75d-4847-8f98-70d0eb0c47e9",
   "metadata": {},
   "outputs": [
    {
     "name": "stdout",
     "output_type": "stream",
     "text": [
      "496 is a perfect number\n"
     ]
    }
   ],
   "source": [
    "# task 11\n",
    "def is_perfect_number(number):\n",
    "    if number <= 0:\n",
    "        return False\n",
    "    divisors_sum = sum(i for i in range(1,number) if number % i == 0 )\n",
    "    return divisors_sum == number\n",
    "\n",
    "num = 496\n",
    "if is_perfect_number(num):\n",
    "    print(f'{num} is a perfect number')\n",
    "else:\n",
    "    print(f'{num} is not a perfect number')"
   ]
  },
  {
   "cell_type": "code",
   "execution_count": 45,
   "id": "8526882d-4bc3-41fd-9039-b03796cb7dc6",
   "metadata": {},
   "outputs": [
    {
     "name": "stdout",
     "output_type": "stream",
     "text": [
      "civic is a palindrome\n"
     ]
    }
   ],
   "source": [
    "# task 12\n",
    "def is_palindrome(str):\n",
    "    if str[::-1] == str:\n",
    "        return str\n",
    "string = 'civic'\n",
    "if is_palindrome(string):\n",
    "    print(f'{string} is a palindrome')\n",
    "else:\n",
    "    print(f'{string} is not a palindrome')"
   ]
  },
  {
   "cell_type": "markdown",
   "id": "b70ee944-7fe8-4e0a-b38f-c934d20f0d95",
   "metadata": {},
   "source": [
    "# assignment-function 2"
   ]
  },
  {
   "cell_type": "code",
   "execution_count": 66,
   "id": "9355c5ce-cc92-48e3-9c78-49edbd897d1a",
   "metadata": {},
   "outputs": [
    {
     "name": "stdout",
     "output_type": "stream",
     "text": [
      "2002,2009,2016,2023,2037,2044,2051,2058,2072,2079,2086,2093,2107,2114,2121,2128,2142,2149,2156,2163,2177,2184,2191,2198,2212,2219,2226,2233,2247,2254,2261,2268,2282,2289,2296,2303,2317,2324,2331,2338,2352,2359,2366,2373,2387,2394,2401,2408,2422,2429,2436,2443,2457,2464,2471,2478,2492,2499,2506,2513,2527,2534,2541,2548,2562,2569,2576,2583,2597,2604,2611,2618,2632,2639,2646,2653,2667,2674,2681,2688,2702,2709,2716,2723,2737,2744,2751,2758,2772,2779,2786,2793,2807,2814,2821,2828,2842,2849,2856,2863,2877,2884,2891,2898,2912,2919,2926,2933,2947,2954,2961,2968,2982,2989,2996,3003,3017,3024,3031,3038,3052,3059,3066,3073,3087,3094,3101,3108,3122,3129,3136,3143,3157,3164,3171,3178,3192,3199\n"
     ]
    }
   ],
   "source": [
    "# task 1\n",
    "def numbers():\n",
    "    num =[str(num) for num in range(2000, 3201) if num % 7 == 0 and num % 5 != 0]\n",
    "    return \",\".join(num)\n",
    "\n",
    "result = numbers()\n",
    "print(result)"
   ]
  },
  {
   "cell_type": "code",
   "execution_count": 76,
   "id": "3d857a63-2a45-4390-abbf-074b71db115c",
   "metadata": {},
   "outputs": [
    {
     "name": "stdin",
     "output_type": "stream",
     "text": [
      "Enter values for C (comma-separated):  100,150,180\n"
     ]
    },
    {
     "name": "stdout",
     "output_type": "stream",
     "text": [
      "Calculated values of P: 5.48,4.47,4.08\n"
     ]
    }
   ],
   "source": [
    "# task 2\n",
    "import math\n",
    "\n",
    "def calculate_values():\n",
    "    A = 50\n",
    "    B = 30\n",
    "    # Taking input from the user\n",
    "    C_values = input(\"Enter values for C (comma-separated): \").split(\",\")\n",
    "    results = []\n",
    "    \n",
    "    for C in C_values:\n",
    "        try:\n",
    "            C = float(C)  # Convert input to float\n",
    "            P = ((2 * A * B) / C)**.5  # Calculate P\n",
    "            results.append(str(round(P, 2)))  # Append rounded value to results\n",
    "        except ValueError:\n",
    "            results.append(\"Invalid\")  # Handle invalid input\n",
    "        except ZeroDivisionError:\n",
    "            results.append(\"Infinity\")  # Handle division by zero\n",
    "    \n",
    "    return \",\".join(results)\n",
    "\n",
    "# Example usage:\n",
    "output = calculate_values()\n",
    "print(\"Calculated values of P:\", output)"
   ]
  },
  {
   "cell_type": "code",
   "execution_count": 88,
   "id": "c642091e-2dc8-487b-91ab-8e171ab74cde",
   "metadata": {},
   "outputs": [
    {
     "name": "stdin",
     "output_type": "stream",
     "text": [
      "Enter a comma-separated sequence of words:  gobhi,alu,bhindi\n"
     ]
    },
    {
     "name": "stdout",
     "output_type": "stream",
     "text": [
      "alu,bhindi,gobhi\n"
     ]
    }
   ],
   "source": [
    "# task 3\n",
    "def sort_words():\n",
    "    input_sequence = input(\"Enter a comma-separated sequence of words: \")\n",
    "    \n",
    "    words = input_sequence.split(\",\")\n",
    "    \n",
    "    sorted_words = sorted(words)\n",
    "    \n",
    "    output_sequence = \",\".join(sorted_words)\n",
    "    \n",
    "    print(output_sequence)\n",
    "\n",
    "if __name__ == \"__main__\":\n",
    "    sort_words()"
   ]
  },
  {
   "cell_type": "code",
   "execution_count": 90,
   "id": "a2b4a07d-6045-4e79-ba9c-ba86582095ac",
   "metadata": {},
   "outputs": [
    {
     "name": "stdout",
     "output_type": "stream",
     "text": [
      "Enter lines of text (press Enter on an empty line to finish):\n"
     ]
    },
    {
     "name": "stdin",
     "output_type": "stream",
     "text": [
      " lorem ipsum \n",
      " sjndj dnjdn djkfnv\n",
      " \n"
     ]
    },
    {
     "name": "stdout",
     "output_type": "stream",
     "text": [
      "LOREM IPSUM \n",
      "SJNDJ DNJDN DJKFNV\n"
     ]
    }
   ],
   "source": [
    "# task 4\n",
    "def capitalize_lines():\n",
    "    lines = []\n",
    "    print(\"Enter lines of text (press Enter on an empty line to finish):\")\n",
    "    \n",
    "    \n",
    "    while True:\n",
    "        line = input()\n",
    "        if line == \"\":\n",
    "            break\n",
    "        lines.append(line)\n",
    "    \n",
    "    capitalized_lines = [line.upper() for line in lines]\n",
    "    \n",
    "    print(\"\\n\".join(capitalized_lines))\n",
    "\n",
    "if __name__ == \"__main__\":\n",
    "    capitalize_lines()"
   ]
  },
  {
   "cell_type": "code",
   "execution_count": 134,
   "id": "aea44ff9-f959-4126-9a61-6cbeb63eae5b",
   "metadata": {},
   "outputs": [
    {
     "name": "stdin",
     "output_type": "stream",
     "text": [
      "Enter a sentence:  this is my book placed on the table\n"
     ]
    },
    {
     "name": "stdout",
     "output_type": "stream",
     "text": [
      "a appeared 2 times\n",
      "e appeared 3 times\n",
      "i appeared 2 times\n",
      "o appeared 3 times\n",
      "u appeared 0 times\n"
     ]
    }
   ],
   "source": [
    "# task 5\n",
    "def count_vowels():\n",
    "    sentence = input(\"Enter a sentence: \")\n",
    "    \n",
    "    vowels = \"aeiou\"\n",
    "    \n",
    "    vowel_count = {v: 0 for v in vowels}\n",
    "    \n",
    "    for char in sentence.lower():\n",
    "        if char in vowels:\n",
    "            vowel_count[char] += 1\n",
    "    \n",
    "    for vowel, count in vowel_count.items():\n",
    "        print(f\"{vowel} appeared {count} {'time' if count == 1 else 'times'}\")\n",
    "\n",
    "if __name__ == \"__main__\":\n",
    "    count_vowels()"
   ]
  },
  {
   "cell_type": "code",
   "execution_count": 144,
   "id": "2c34783e-6c72-4cc4-9d5f-72407de5c7a9",
   "metadata": {},
   "outputs": [
    {
     "name": "stdout",
     "output_type": "stream",
     "text": [
      "Numbers with all even digits: [2000, 2002, 2004, 2006, 2008, 2020, 2022, 2024, 2026, 2028, 2040, 2042, 2044, 2046, 2048, 2060, 2062, 2064, 2066, 2068, 2080, 2082, 2084, 2086, 2088, 2200, 2202, 2204, 2206, 2208, 2220, 2222, 2224, 2226, 2228, 2240, 2242, 2244, 2246, 2248, 2260, 2262, 2264, 2266, 2268, 2280, 2282, 2284, 2286, 2288, 2400, 2402, 2404, 2406, 2408, 2420, 2422, 2424, 2426, 2428, 2440, 2442, 2444, 2446, 2448, 2460, 2462, 2464, 2466, 2468, 2480, 2482, 2484, 2486, 2488, 2600, 2602, 2604, 2606, 2608, 2620, 2622, 2624, 2626, 2628, 2640, 2642, 2644, 2646, 2648, 2660, 2662, 2664, 2666, 2668, 2680, 2682, 2684, 2686, 2688, 2800, 2802, 2804, 2806, 2808, 2820, 2822, 2824, 2826, 2828, 2840, 2842, 2844, 2846, 2848, 2860, 2862, 2864, 2866, 2868, 2880, 2882, 2884, 2886, 2888]\n"
     ]
    }
   ],
   "source": [
    "# task 6\n",
    "def find_even_digit_numbers():\n",
    "   \n",
    "    even_digit_numbers = []\n",
    "\n",
    "    for num in range(1000, 3001):\n",
    "    \n",
    "        if all(int(digit) % 2 == 0 for digit in str(num)):\n",
    "            even_digit_numbers.append(num)\n",
    "\n",
    "    return even_digit_numbers\n",
    "\n",
    "if __name__ == \"__main__\":\n",
    "    result = find_even_digit_numbers()\n",
    "    print(\"Numbers with all even digits:\", result)\n"
   ]
  },
  {
   "cell_type": "code",
   "execution_count": 180,
   "id": "bd60171d-4154-4824-be58-f60e9b477afb",
   "metadata": {},
   "outputs": [
    {
     "name": "stdout",
     "output_type": "stream",
     "text": [
      "1010,1111\n"
     ]
    }
   ],
   "source": [
    "# task 7\n",
    "def check_divisibility(binary_numbers):\n",
    "    # Split the input string by comma to get individual binary numbers\n",
    "    binary_list = binary_numbers.split(',')\n",
    "    \n",
    "    # Initialize an empty list to store binary numbers divisible by 5\n",
    "    divisible_by_5 = []\n",
    "    \n",
    "    # Iterate through each binary number\n",
    "    for binary in binary_list:\n",
    "        # Convert binary number to decimal\n",
    "        decimal = int(binary, 2)\n",
    "        # Check if the decimal number is divisible by 5\n",
    "        if decimal % 5 == 0:\n",
    "            divisible_by_5.append(binary)\n",
    "    \n",
    "    # Print the binary numbers divisible by 5 as a comma separated string\n",
    "    print(','.join(divisible_by_5))\n",
    "\n",
    "# Example usage:\n",
    "input_sequence = \"1010,1100,1111,1011,1001\"\n",
    "check_divisibility(input_sequence)\n"
   ]
  },
  {
   "cell_type": "code",
   "execution_count": 182,
   "id": "2d9bb940-e184-4cf5-a750-13e5b92f783f",
   "metadata": {},
   "outputs": [
    {
     "name": "stdin",
     "output_type": "stream",
     "text": [
      "Enter a sentence:  muhibullah3313\n"
     ]
    },
    {
     "name": "stdout",
     "output_type": "stream",
     "text": [
      "LETTERS 10\n",
      "DIGITS 4\n"
     ]
    }
   ],
   "source": [
    " # task 8\n",
    "def count_letters_and_digits():\n",
    "    sentence = input(\"Enter a sentence: \")\n",
    "    \n",
    "    letter_count = 0\n",
    "    digit_count = 0\n",
    "    \n",
    "    for char in sentence:\n",
    "        if char.isalpha():\n",
    "            letter_count += 1\n",
    "        elif char.isdigit():\n",
    "            digit_count += 1\n",
    "    \n",
    "    print(f\"LETTERS {letter_count}\")\n",
    "    print(f\"DIGITS {digit_count}\")\n",
    "\n",
    "# Example usage\n",
    "if __name__ == \"__main__\":\n",
    "    count_letters_and_digits()\n"
   ]
  },
  {
   "cell_type": "code",
   "execution_count": null,
   "id": "e1408eaa-8fba-4f05-acd0-6c70a80fcae8",
   "metadata": {},
   "outputs": [],
   "source": []
  }
 ],
 "metadata": {
  "kernelspec": {
   "display_name": "Python 3 (ipykernel)",
   "language": "python",
   "name": "python3"
  },
  "language_info": {
   "codemirror_mode": {
    "name": "ipython",
    "version": 3
   },
   "file_extension": ".py",
   "mimetype": "text/x-python",
   "name": "python",
   "nbconvert_exporter": "python",
   "pygments_lexer": "ipython3",
   "version": "3.12.7"
  }
 },
 "nbformat": 4,
 "nbformat_minor": 5
}
