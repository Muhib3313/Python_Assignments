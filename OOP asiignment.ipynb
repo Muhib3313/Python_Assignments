{
 "cells": [
  {
   "cell_type": "markdown",
   "id": "708e737a-f549-4402-823b-7f6bb1122511",
   "metadata": {},
   "source": [
    "# OOP Assignment"
   ]
  },
  {
   "cell_type": "code",
   "execution_count": 8,
   "id": "3601e3e7-cd5f-45dc-b375-a8505a8ccc37",
   "metadata": {},
   "outputs": [
    {
     "name": "stdout",
     "output_type": "stream",
     "text": [
      "person1 deatils:\n",
      "Name:Bob\n",
      "Age:25\n",
      "Country:USA\n",
      "\n",
      "person2 deatils:\n",
      "Name:Muhib\n",
      "Age:35\n",
      "Country:Pak\n"
     ]
    }
   ],
   "source": [
    "# task 1\n",
    "class Person:\n",
    "   def __init__(self,name,age,country):\n",
    "       self.name = name\n",
    "       self.age = age\n",
    "       self.country = country\n",
    "\n",
    "   def Person_deatils(self):\n",
    "       print(f\"Name:{self.name}\\nAge:{self.age}\\nCountry:{self.country}\")\n",
    "\n",
    "person1 = Person(\"Bob\",25,\"USA\\n\")\n",
    "person2 = Person(\"Muhib\",35,\"Pak\")\n",
    "\n",
    "print('person1 deatils:')\n",
    "person1.Person_deatils()\n",
    "print('person2 deatils:')\n",
    "person2.Person_deatils()"
   ]
  },
  {
   "cell_type": "code",
   "execution_count": 38,
   "id": "e2650058-60e7-4074-af56-561d64eb1600",
   "metadata": {},
   "outputs": [
    {
     "name": "stdout",
     "output_type": "stream",
     "text": [
      "area of rectangle is:\n",
      "45\n",
      "perimeter of rectangle is:\n"
     ]
    },
    {
     "data": {
      "text/plain": [
       "28"
      ]
     },
     "execution_count": 38,
     "metadata": {},
     "output_type": "execute_result"
    }
   ],
   "source": [
    "# task 2\n",
    "class Rectangle:\n",
    "    def __init__(self,length,width):\n",
    "        self.length = length\n",
    "        self.width = width\n",
    "    def calculate_area(self):\n",
    "        return self.length * self.width\n",
    "        \n",
    "    def calculate_perimeter(self):\n",
    "        return 2*(self.length+self.width)\n",
    "        \n",
    "particulars = Rectangle(9,5)\n",
    "\n",
    "print('area of rectangle is:')\n",
    "print(particulars.calculate_area())\n",
    "print('perimeter of rectangle is:')\n",
    "particulars.calculate_perimeter()"
   ]
  },
  {
   "cell_type": "code",
   "execution_count": 50,
   "id": "bd024cf0-87c8-4495-9fe7-f503d6cf00d5",
   "metadata": {},
   "outputs": [
    {
     "name": "stdout",
     "output_type": "stream",
     "text": [
      "vehicle detail:\n",
      "Make:Toyota\n",
      "Model:Corolla\n",
      "Year:2020\n",
      "\n",
      " car details:\n",
      "Make:honda\n",
      "Model:Civic\n",
      "Year:2020\n",
      "Number of doors:4\n"
     ]
    }
   ],
   "source": [
    "# task 3\n",
    "class Vehicle:\n",
    "    def __init__(self,make,model,year):\n",
    "        self.make = make\n",
    "        self.model = model\n",
    "        self.year = year\n",
    "    def display_details(self):\n",
    "        print(f\"Make:{self.make}\")\n",
    "        print(f\"Model:{self.model}\")\n",
    "        print(f\"Year:{self.year}\")\n",
    "        \n",
    "class Car(Vehicle):\n",
    "    def __init__(self,make,model,year,doors):\n",
    "        super().__init__(make,model,year)\n",
    "        self.doors = doors\n",
    "    def display_details(self):\n",
    "        super().display_details()\n",
    "        print(f'Number of doors:{self.doors}')\n",
    "\n",
    "vehicle = Vehicle(\"Toyota\",\"Corolla\",2020)\n",
    "print('vehicle detail:')\n",
    "vehicle.display_details()\n",
    "\n",
    "print(\"\\n car details:\")\n",
    "car = Car(\"honda\",\"Civic\",2020,4)\n",
    "car.display_details()"
   ]
  },
  {
   "cell_type": "code",
   "execution_count": 54,
   "id": "eaee9c75-09a6-42f6-8700-87468cf792e4",
   "metadata": {},
   "outputs": [
    {
     "name": "stdout",
     "output_type": "stream",
     "text": [
      "Account 1 transactions:\n",
      "Deposited $200.00. New balance: $1200.00\n",
      "Withdrew $150.00. New balance: $1050.00\n",
      "\n",
      "Account 2 transactions:\n",
      "Deposited $300.00. New balance: $800.00\n",
      "Withdrew $800.00. New balance: $0.00\n",
      "\n",
      "Final Balances:\n",
      "Account Number: 12345678\n",
      "Balance: $1050.00\n",
      "Account Number: 87654321\n",
      "Balance: $0.00\n"
     ]
    }
   ],
   "source": [
    "# task 4\n",
    "class BankAccount:\n",
    "    def __init__(self, account_number, balance=0.0):\n",
    "        self.account_number = account_number\n",
    "        self.balance = balance\n",
    "\n",
    "    def deposit(self, amount):\n",
    "        if amount > 0:\n",
    "            self.balance += amount\n",
    "            print(f\"Deposited ${amount:.2f}. New balance: ${self.balance:.2f}\")\n",
    "        else:\n",
    "            print(\"Deposit amount must be positive.\")\n",
    "\n",
    "    def withdraw(self, amount):\n",
    "        if 0 < amount <= self.balance:\n",
    "            self.balance -= amount\n",
    "            print(f\"Withdrew ${amount:.2f}. New balance: ${self.balance:.2f}\")\n",
    "        elif amount > self.balance:\n",
    "            print(\"Insufficient funds.\")\n",
    "        else:\n",
    "            print(\"Withdrawal amount must be positive.\")\n",
    "\n",
    "    def display_balance(self):\n",
    "        print(f\"Account Number: {self.account_number}\")\n",
    "        print(f\"Balance: ${self.balance:.2f}\")\n",
    "\n",
    "account1 = BankAccount(\"12345678\", 1000.0)\n",
    "account2 = BankAccount(\"87654321\", 500.0)\n",
    "\n",
    "print(\"Account 1 transactions:\")\n",
    "account1.deposit(200.0)\n",
    "account1.withdraw(150.0)\n",
    "\n",
    "print(\"\\nAccount 2 transactions:\")\n",
    "account2.deposit(300.0)\n",
    "account2.withdraw(800.0)\n",
    "\n",
    "print(\"\\nFinal Balances:\")\n",
    "account1.display_balance()\n",
    "account2.display_balance()\n"
   ]
  },
  {
   "cell_type": "code",
   "execution_count": 58,
   "id": "c2411ebf-c16d-4c98-bb03-250bd381bdc1",
   "metadata": {},
   "outputs": [
    {
     "name": "stdout",
     "output_type": "stream",
     "text": [
      "Area of the Circle with radius 7: 153.94\n",
      "Area of the Triangle with base 9 and height 5: 22.50\n"
     ]
    }
   ],
   "source": [
    "# task 5\n",
    "import math\n",
    "class Shape:\n",
    "    def calculate_area(self):\n",
    "        raise NotImplementedError(\"This method should be overridden by subclasses.\")\n",
    "\n",
    "class Circle(Shape):\n",
    "    def __init__(self, radius):\n",
    "        self.radius = radius\n",
    "\n",
    "    def calculate_area(self):\n",
    "        return math.pi * self.radius ** 2\n",
    "\n",
    "class Triangle(Shape):\n",
    "    def __init__(self, base, height):\n",
    "        self.base = base\n",
    "        self.height = height\n",
    "\n",
    "    def calculate_area(self):\n",
    "        return 0.5 * self.base * self.height\n",
    "        \n",
    "circle = Circle(7)  # Circle with radius 5\n",
    "circle_area = circle.calculate_area()\n",
    "print(f\"Area of the Circle with radius {circle.radius}: {circle_area:.2f}\")\n",
    "\n",
    "triangle = Triangle(9, 5)  \n",
    "triangle_area = triangle.calculate_area()\n",
    "print(f\"Area of the Triangle with base {triangle.base} and height {triangle.height}: {triangle_area:.2f}\")\n"
   ]
  },
  {
   "cell_type": "code",
   "execution_count": 60,
   "id": "d9e292b7-b4f9-4373-8b06-d7f83b2fb7ec",
   "metadata": {},
   "outputs": [
    {
     "name": "stdout",
     "output_type": "stream",
     "text": [
      "Alice (HR): Annual Salary = $101,000.00\n",
      "Bob (Finance): Annual Salary = $124,000.00\n"
     ]
    }
   ],
   "source": [
    "# task 6\n",
    "class Employee:\n",
    "    def __init__(self, name, salary):\n",
    "        self.name = name\n",
    "        self.salary = salary\n",
    "\n",
    "    def calculate_annual_salary(self):\n",
    "        return self.salary * 12\n",
    "\n",
    "class Manager(Employee):\n",
    "    def __init__(self, name, salary, department, bonus):\n",
    "        super().__init__(name, salary)\n",
    "        self.department = department\n",
    "        self.bonus = bonus\n",
    "\n",
    "    def calculate_annual_salary(self):\n",
    "        base_annual_salary = super().calculate_annual_salary()\n",
    "        return base_annual_salary + self.bonus\n",
    "\n",
    "manager1 = Manager(\"Alice\", 8000, \"HR\", 5000)  # Salary: 8000, Bonus: 5000\n",
    "manager2 = Manager(\"Bob\", 9500, \"Finance\", 10000)  # Salary: 9500, Bonus: 10000\n",
    "\n",
    "print(f\"{manager1.name} ({manager1.department}): Annual Salary = ${manager1.calculate_annual_salary():,.2f}\")\n",
    "print(f\"{manager2.name} ({manager2.department}): Annual Salary = ${manager2.calculate_annual_salary():,.2f}\")\n"
   ]
  },
  {
   "cell_type": "code",
   "execution_count": 81,
   "id": "26c63473-9ec2-4a9c-ab1a-89c101af32a5",
   "metadata": {},
   "outputs": [
    {
     "name": "stdout",
     "output_type": "stream",
     "text": [
      "Ebook Details:\n",
      "Title: Python Programming\n",
      "Author: John Doe\n",
      "Publication Year: 2021\n",
      "Price: $19.99\n"
     ]
    }
   ],
   "source": [
    "# task 7\n",
    "class Book:\n",
    "    def __init__(self, title, author, publication_year):\n",
    "        self.title = title\n",
    "        self.author = author\n",
    "        self.publication_year = publication_year\n",
    "\n",
    "    def display_details(self):\n",
    "        print(f\"Title: {self.title}\")\n",
    "        print(f\"Author: {self.author}\")\n",
    "        print(f\"Publication Year: {self.publication_year}\")\n",
    "\n",
    "class Ebook(Book):\n",
    "    def __init__(self, title, author, publication_year, price):\n",
    "        super().__init__(title, author, publication_year)\n",
    "        self.price = price\n",
    "\n",
    "    def display_details(self):\n",
    "        super().display_details()\n",
    "        print(f\"Price: ${self.price:.2f}\")\n",
    "\n",
    "ebook = Ebook(\"Python Programming\", \"John Doe\", 2021, 19.99)\n",
    "\n",
    "print(\"Ebook Details:\")\n",
    "ebook.display_details()\n"
   ]
  },
  {
   "cell_type": "code",
   "execution_count": 83,
   "id": "d6066d46-1283-4825-bbde-5decc3bbe83c",
   "metadata": {},
   "outputs": [
    {
     "name": "stdout",
     "output_type": "stream",
     "text": [
      "Dog Sound:\n",
      "The Brown Dog barks 'Woof Woof'.\n"
     ]
    }
   ],
   "source": [
    "# task 8\n",
    "class Animal:\n",
    "    def __init__(self, species, sound):\n",
    "        self.species = species\n",
    "        self.sound = sound\n",
    "\n",
    "    def make_sound(self):\n",
    "        print(f\"The {self.species} says '{self.sound}'.\")\n",
    "\n",
    "class Dog(Animal):\n",
    "    def __init__(self, species, sound, color):\n",
    "        super().__init__(species, sound)\n",
    "        self.color = color\n",
    "\n",
    "    def make_sound(self):\n",
    "        print(f\"The {self.color} {self.species} barks '{self.sound}'.\")\n",
    "\n",
    "dog = Dog(\"Dog\", \"Woof Woof\", \"Brown\")\n",
    "\n",
    "print(\"Dog Sound:\")\n",
    "dog.make_sound()"
   ]
  },
  {
   "cell_type": "code",
   "execution_count": 3,
   "id": "05f40e29-a53f-4489-b56c-4c0e8a004cbd",
   "metadata": {},
   "outputs": [
    {
     "name": "stdout",
     "output_type": "stream",
     "text": [
      "branch Downtown added succefully\n",
      "branch Uptown added succefully\n",
      "branch Suburban added succefully\n",
      "Branches of National Bank: Downtown, Uptown, Suburban\n",
      "branch Uptown is succesfully removed\n",
      "Branches of National Bank: Downtown, Suburban\n",
      "branch Rural does not exist\n"
     ]
    }
   ],
   "source": [
    "# task 9\n",
    "class Bank:\n",
    "    def __init__(self,name):\n",
    "        self.name = name\n",
    "        self.branches = []\n",
    "        \n",
    "    def add_branch(self,branch_name):\n",
    "        if branch_name not in self.branches:\n",
    "            self.branches.append(branch_name)\n",
    "            print(f\"branch {branch_name} added succefully\")\n",
    "        else:\n",
    "            print(f\"branch {branch_name} already exists\")\n",
    "    def remove_branch(self,branch_name):\n",
    "        if branch_name in self.branches:\n",
    "            self.branches.remove(branch_name)\n",
    "            print(f\"branch {branch_name} is succesfully removed\")\n",
    "        else:\n",
    "            print(f\"branch {branch_name} does not exist\")\n",
    "    def display_branches(self):\n",
    "        if self.branches:\n",
    "             print(f\"Branches of {self.name}: {', '.join(self.branches)}\")\n",
    "        else:\n",
    "            print(f\"no branches available for {self.name}.\")\n",
    "\n",
    "my_bank = Bank(\"National Bank\")\n",
    "\n",
    "my_bank.add_branch(\"Downtown\")\n",
    "my_bank.add_branch(\"Uptown\")\n",
    "my_bank.add_branch(\"Suburban\")\n",
    "\n",
    "my_bank.display_branches()\n",
    "\n",
    "my_bank.remove_branch(\"Uptown\")\n",
    "my_bank.display_branches()\n",
    "\n",
    "my_bank.remove_branch(\"Rural\")"
   ]
  },
  {
   "cell_type": "code",
   "execution_count": 1,
   "id": "047b0065-5a24-4dac-a8b7-8da2486d0b7b",
   "metadata": {},
   "outputs": [
    {
     "name": "stdout",
     "output_type": "stream",
     "text": [
      "Total price for 3 units of Electric Toothbrush: $165\n"
     ]
    }
   ],
   "source": [
    "# task 10\n",
    "class Product:\n",
    "    def __init__(self, product_id, name, price):\n",
    "        self.product_id = product_id\n",
    "        self.name = name\n",
    "        self.price = price\n",
    "    \n",
    "    def calculate_total_price(self, quantity):\n",
    "        return self.price * quantity\n",
    "\n",
    "class PersonalCareProduct(Product):\n",
    "    def __init__(self, product_id, name, price, warranty_period):\n",
    "        super().__init__(product_id, name, price)\n",
    "        self.warranty_period = warranty_period\n",
    "    \n",
    "    def calculate_total_price(self, quantity):\n",
    "        base_total = super().calculate_total_price(quantity)\n",
    "        warranty_cost = 5 * quantity  # Assume $5 extra per item for warranty\n",
    "        return base_total + warranty_cost\n",
    "\n",
    "# Create an instance of PersonalCareProduct\n",
    "personal_care_item = PersonalCareProduct(101, \"Electric Toothbrush\", 50, \"2 years\")\n",
    "\n",
    "# Calculate total price for 3 units\n",
    "total_price = personal_care_item.calculate_total_price(3)\n",
    "print(f\"Total price for 3 units of {personal_care_item.name}: ${total_price}\")"
   ]
  },
  {
   "cell_type": "code",
   "execution_count": 5,
   "id": "3e7d0441-f0b0-4ad6-bf8f-4f8babdcd1d2",
   "metadata": {},
   "outputs": [
    {
     "name": "stdout",
     "output_type": "stream",
     "text": [
      "Deposited $200 into account 1001. New balance: $700\n",
      "Withdrew $100 from account 1001. New balance: $600\n",
      "Transferred $200 from account 1001 to account 1002.\n",
      "Transferred $200 from account 1001 to account 1002.\n",
      "Final balance of Alice: $200\n",
      "Final balance of Bob: $700\n"
     ]
    }
   ],
   "source": [
    "# task 11\n",
    "class BankAccount:\n",
    "    def __init__(self, account_number, holder_name, balance=0.0):\n",
    "        self.account_number = account_number\n",
    "        self.holder_name = holder_name\n",
    "        self.balance = balance\n",
    "    \n",
    "    def deposit(self, amount):\n",
    "        if amount > 0:\n",
    "            self.balance += amount\n",
    "            print(f\"Deposited ${amount} into account {self.account_number}. New balance: ${self.balance}\")\n",
    "        else:\n",
    "            print(\"Deposit amount must be positive.\")\n",
    "    \n",
    "    def withdraw(self, amount):\n",
    "        if 0 < amount <= self.balance:\n",
    "            self.balance -= amount\n",
    "            print(f\"Withdrew ${amount} from account {self.account_number}. New balance: ${self.balance}\")\n",
    "        else:\n",
    "            print(\"Insufficient funds or invalid amount.\")\n",
    "    \n",
    "    def transfer(self, amount, recipient_account):\n",
    "        if 0 < amount <= self.balance:\n",
    "            self.balance -= amount\n",
    "            recipient_account.balance += amount\n",
    "            print(f\"Transferred ${amount} from account {self.account_number} to account {recipient_account.account_number}.\")\n",
    "        else:\n",
    "            print(\"Insufficient funds or invalid transfer amount.\")\n",
    "\n",
    "# Creating multiple instances\n",
    "account1 = BankAccount(1001, \"Alice\", 500)\n",
    "account2 = BankAccount(1002, \"Bob\", 300)\n",
    "\n",
    "# Performing operations\n",
    "account1.deposit(200)\n",
    "account1.withdraw(100)\n",
    "account1.transfer(200, account2)\n",
    "\n",
    "# Display final balances\n",
    "print(f\"Final balance of {account1.holder_name}: ${account1.balance}\")\n",
    "print(f\"Final balance of {account2.holder_name}: ${account2.balance}\")\n"
   ]
  },
  {
   "cell_type": "code",
   "execution_count": 7,
   "id": "91e88d70-322b-4965-ac83-7baa194aac1d",
   "metadata": {},
   "outputs": [
    {
     "name": "stdout",
     "output_type": "stream",
     "text": [
      "Department 'Computer Science' added to Tech University.\n",
      "Department 'Mathematics' added to Tech University.\n",
      "Department 'Physics' added to Tech University.\n",
      "Departments at Tech University: Computer Science, Mathematics, Physics\n",
      "Department 'Mathematics' removed from Tech University.\n",
      "Departments at Tech University: Computer Science, Physics\n"
     ]
    }
   ],
   "source": [
    "# task 12\n",
    "class University:\n",
    "    def __init__(self, name):\n",
    "        self.name = name\n",
    "        self.departments = []\n",
    "    \n",
    "    def add_department(self, department_name):\n",
    "        if department_name not in self.departments:\n",
    "            self.departments.append(department_name)\n",
    "            print(f\"Department '{department_name}' added to {self.name}.\")\n",
    "        else:\n",
    "            print(f\"Department '{department_name}' already exists in {self.name}.\")\n",
    "    \n",
    "    def remove_department(self, department_name):\n",
    "        if department_name in self.departments:\n",
    "            self.departments.remove(department_name)\n",
    "            print(f\"Department '{department_name}' removed from {self.name}.\")\n",
    "        else:\n",
    "            print(f\"Department '{department_name}' not found in {self.name}.\")\n",
    "    \n",
    "    def display_departments(self):\n",
    "        if self.departments:\n",
    "            print(f\"Departments at {self.name}: {', '.join(self.departments)}\")\n",
    "        else:\n",
    "            print(f\"No departments found in {self.name}.\")\n",
    "\n",
    "# Create an instance of University\n",
    "uni = University(\"Tech University\")\n",
    "\n",
    "# Add departments\n",
    "uni.add_department(\"Computer Science\")\n",
    "uni.add_department(\"Mathematics\")\n",
    "uni.add_department(\"Physics\")\n",
    "\n",
    "# Display departments\n",
    "uni.display_departments()\n",
    "\n",
    "# Remove a department\n",
    "uni.remove_department(\"Mathematics\")\n",
    "\n",
    "# Display departments after removal\n",
    "uni.display_departments()"
   ]
  },
  {
   "cell_type": "code",
   "execution_count": null,
   "id": "52a26ed5-ba89-4515-ace4-ae16d3ee3784",
   "metadata": {},
   "outputs": [],
   "source": []
  }
 ],
 "metadata": {
  "kernelspec": {
   "display_name": "Python 3 (ipykernel)",
   "language": "python",
   "name": "python3"
  },
  "language_info": {
   "codemirror_mode": {
    "name": "ipython",
    "version": 3
   },
   "file_extension": ".py",
   "mimetype": "text/x-python",
   "name": "python",
   "nbconvert_exporter": "python",
   "pygments_lexer": "ipython3",
   "version": "3.12.7"
  }
 },
 "nbformat": 4,
 "nbformat_minor": 5
}
