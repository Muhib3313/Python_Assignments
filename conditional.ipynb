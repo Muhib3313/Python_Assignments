{
 "cells": [
  {
   "cell_type": "markdown",
   "id": "2c57971e-86fe-4d56-908b-8ae7f683f58b",
   "metadata": {},
   "source": [
    "# conditional"
   ]
  },
  {
   "cell_type": "code",
   "execution_count": 1,
   "id": "c575f766-d0d0-4735-8147-b121f4041783",
   "metadata": {},
   "outputs": [
    {
     "name": "stdin",
     "output_type": "stream",
     "text": [
      "enter a digit or a number:  23\n"
     ]
    },
    {
     "name": "stdout",
     "output_type": "stream",
     "text": [
      "thats an odd number\n"
     ]
    }
   ],
   "source": [
    "# task 1\n",
    "digit = float(input('enter a digit or a number: '))\n",
    "if digit %2 == 0 :\n",
    "    print('thats an even number')\n",
    "else:\n",
    "    print('thats an odd number')"
   ]
  },
  {
   "cell_type": "code",
   "execution_count": 149,
   "id": "ce2800d4-b0ce-42ee-8071-f0a6b186c8d9",
   "metadata": {},
   "outputs": [
    {
     "name": "stdin",
     "output_type": "stream",
     "text": [
      "enter your age here:  17\n"
     ]
    },
    {
     "name": "stdout",
     "output_type": "stream",
     "text": [
      "you are not eligible to vote\n"
     ]
    }
   ],
   "source": [
    "# task 2\n",
    "input_age = float(input('enter your age here: '))\n",
    "if input_age >= 18:\n",
    "    print('you are eligible to vote')\n",
    "else:\n",
    "    print('you are not eligible to vote')"
   ]
  },
  {
   "cell_type": "code",
   "execution_count": 159,
   "id": "3457f6a7-78e4-48c3-8838-0a0c47701c37",
   "metadata": {},
   "outputs": [
    {
     "name": "stdin",
     "output_type": "stream",
     "text": [
      "enter first number:  45\n",
      "enter the second number:  78\n"
     ]
    },
    {
     "name": "stdout",
     "output_type": "stream",
     "text": [
      "78.0\n"
     ]
    }
   ],
   "source": [
    "# task 3\n",
    "num1 = float(input('enter first number: '))\n",
    "num2 = float(input('enter the second number: '))\n",
    "if num1 > num2:\n",
    "    print(num1)\n",
    "elif num2 > num1:\n",
    "    print(num2)\n",
    "else:\n",
    "    print('not a valid number')"
   ]
  },
  {
   "cell_type": "code",
   "execution_count": 173,
   "id": "ba47829c-2a3f-465e-9751-9eb875671dfd",
   "metadata": {},
   "outputs": [
    {
     "name": "stdin",
     "output_type": "stream",
     "text": [
      "enter a digit here:  +89\n"
     ]
    },
    {
     "name": "stdout",
     "output_type": "stream",
     "text": [
      "this is a positive number\n"
     ]
    }
   ],
   "source": [
    "# task 4\n",
    "digit = int(input('enter a digit here: '))\n",
    "if digit > 0 :\n",
    "    print('this is a positive number')\n",
    "elif digit < 0 :\n",
    "    print('this is a negative number')\n",
    "else:\n",
    "    print('this is zero')"
   ]
  },
  {
   "cell_type": "code",
   "execution_count": 187,
   "id": "4c1f1916-4456-4f4c-8908-c36c52d08000",
   "metadata": {},
   "outputs": [
    {
     "name": "stdin",
     "output_type": "stream",
     "text": [
      "enter you age:  18\n"
     ]
    },
    {
     "name": "stdout",
     "output_type": "stream",
     "text": [
      "teenager\n"
     ]
    }
   ],
   "source": [
    "# task 5\n",
    "age = int(input('enter you age: '))\n",
    "if age < 13:\n",
    "    print('child')\n",
    "elif age > 13 and age < 20:\n",
    "    print('teenager')\n",
    "elif age >= 20 and age <= 59:\n",
    "    print('adult')\n",
    "else:\n",
    "    print('senior citizen')"
   ]
  },
  {
   "cell_type": "code",
   "execution_count": 3,
   "id": "a49d78a4-5c24-4305-9ac6-319825a79bc5",
   "metadata": {},
   "outputs": [
    {
     "name": "stdin",
     "output_type": "stream",
     "text": [
      "enter a number b/w 1 and 7:  4\n"
     ]
    },
    {
     "name": "stdout",
     "output_type": "stream",
     "text": [
      "today is wednesday\n"
     ]
    }
   ],
   "source": [
    "# task 6\n",
    "days = {1: 'sunday',2: \"monday\",3: 'tuesday',4: 'wednesday',5: 'thursday',6: 'friday',7: 'saturday'}\n",
    "number = int(input('enter a number b/w 1 and 7: '))\n",
    "if 1 <= number <= 7:\n",
    "    print(f'today is {days[number]}')\n",
    "else:\n",
    "    print('number is not valid')\n"
   ]
  },
  {
   "cell_type": "code",
   "execution_count": 15,
   "id": "88930f3c-185d-4f1c-8ec6-3ef9ba2c5468",
   "metadata": {},
   "outputs": [
    {
     "name": "stdin",
     "output_type": "stream",
     "text": [
      "enter your height in meters:  2\n",
      "enter your weight in kilograms:  120\n"
     ]
    },
    {
     "name": "stdout",
     "output_type": "stream",
     "text": [
      "obesity\n"
     ]
    }
   ],
   "source": [
    "# task 7\n",
    "height = float(input('enter your height in meters: '))\n",
    "weight = float(input('enter your weight in kilograms: '))\n",
    "BMI = weight/(height*height)\n",
    "if BMI < 18.5:\n",
    "    print('underweight')\n",
    "elif BMI >= 18.5 and BMI < 24.9:\n",
    "    print('normal weight')\n",
    "elif BMI >= 25 and BMI < 29.9:\n",
    "    print('overweight')\n",
    "else:\n",
    "    print('obesity')"
   ]
  },
  {
   "cell_type": "code",
   "execution_count": 29,
   "id": "aa725165-b502-49fb-a1b0-71550611cc4d",
   "metadata": {},
   "outputs": [
    {
     "name": "stdin",
     "output_type": "stream",
     "text": [
      "enter the marks of subject 1:  70\n",
      "enter the marks of subject 2:  70\n",
      "enter the marks of subject 3:  70\n"
     ]
    },
    {
     "name": "stdout",
     "output_type": "stream",
     "text": [
      "grade C\n"
     ]
    }
   ],
   "source": [
    "# task 8\n",
    "sub1 = float(input('enter the marks of subject 1: '))\n",
    "sub2 = float(input('enter the marks of subject 2: '))\n",
    "sub3 = float(input('enter the marks of subject 3: '))\n",
    "avg = (sub1+sub2+sub3)/3\n",
    "if 0 > sub1 > 100 or 0 > sub2 > 100 or 0 > sub3 > 100:\n",
    "    print('marks should be within range of 0 to 100')\n",
    "elif avg < 100 and avg >= 90:\n",
    "    print('grade A')\n",
    "elif avg < 90 and avg >= 80:\n",
    "    print('grade B')\n",
    "elif avg < 80 and avg >= 70:\n",
    "    print('grade C')\n",
    "elif avg < 70 and avg >= 60:\n",
    "    print('grade D')\n",
    "else:\n",
    "    print('fail')"
   ]
  },
  {
   "cell_type": "code",
   "execution_count": 39,
   "id": "d88857d6-a95e-4073-87dd-5145843fff87",
   "metadata": {},
   "outputs": [
    {
     "name": "stdin",
     "output_type": "stream",
     "text": [
      "enter the value of b:  2\n",
      "enter the value of a:  4\n",
      "enter the value of c:  4\n"
     ]
    },
    {
     "name": "stdout",
     "output_type": "stream",
     "text": [
      "eq. has two complex roots\n"
     ]
    }
   ],
   "source": [
    "# task 9\n",
    "b = float(input('enter the value of b: '))\n",
    "a = float(input('enter the value of a: '))\n",
    "c = float(input('enter the value of c: '))\n",
    "discriminent = b*b - 4*a*c\n",
    "if discriminent == 0:\n",
    "    print('eq. has two equal roots')\n",
    "elif discriminent > 0 :\n",
    "    print('eq. has two real and equal roots')\n",
    "else:\n",
    "    print('eq. has two complex roots')"
   ]
  },
  {
   "cell_type": "code",
   "execution_count": 53,
   "id": "1b857bc8-eaa0-4af4-aef8-cfbaeba9e584",
   "metadata": {},
   "outputs": [
    {
     "name": "stdin",
     "output_type": "stream",
     "text": [
      "enter first number: 100\n",
      "enter second number:  200\n",
      "enter third number:  300\n"
     ]
    },
    {
     "name": "stdout",
     "output_type": "stream",
     "text": [
      "100,200,300\n"
     ]
    }
   ],
   "source": [
    "# task 10\n",
    "num_one = int(input('enter first number: '))\n",
    "num_two = int(input('enter second number: '))\n",
    "num_three = int(input('enter third number: '))\n",
    "if num_one > num_two > num_three:\n",
    "    print(f'{num_three},{num_two},{num_one}')\n",
    "elif num_one > num_three > num_two:\n",
    "    print(f'{num_two},{num_three},{num_one}')\n",
    "elif num_two > num_three > num_one:\n",
    "    print(f'{num_one},{num_three},{num_two}')\n",
    "elif num_two > num_one > num_three:\n",
    "    print(f'{num_three},{num_one},{num_two}')\n",
    "elif num_three > num_one > num_two:\n",
    "    print(f'{num_one},{num_three},{num_two}')\n",
    "elif num_three > num_two > num_one:\n",
    "    print(f'{num_one},{num_two},{num_three}')\n",
    "    "
   ]
  },
  {
   "cell_type": "code",
   "execution_count": 69,
   "id": "bcf8ceb1-527b-4385-a3de-f7c2f57fee9c",
   "metadata": {},
   "outputs": [
    {
     "name": "stdin",
     "output_type": "stream",
     "text": [
      "enter first number:  -12\n",
      "enter second number:  -7\n",
      "enter third number:  -1\n"
     ]
    },
    {
     "name": "stdout",
     "output_type": "stream",
     "text": [
      "-1\n"
     ]
    }
   ],
   "source": [
    "# task 11\n",
    "num_I = int(input('enter first number: '))\n",
    "num_II = int(input('enter second number: '))\n",
    "num_III = int(input('enter third number: '))\n",
    "if num_I > num_II and num_I > num_III:\n",
    "    print(f'{num_I}')\n",
    "elif num_II > num_I and num_II > num_III:\n",
    "    print(f'{num_II}')\n",
    "elif num_III > num_I and num_III > num_II:\n",
    "    print(f'{num_III}')"
   ]
  },
  {
   "cell_type": "code",
   "execution_count": 75,
   "id": "5d5d20ce-49ae-49ac-bed7-397fb8ec8ac5",
   "metadata": {},
   "outputs": [
    {
     "name": "stdin",
     "output_type": "stream",
     "text": [
      "enter a character here:  A\n"
     ]
    },
    {
     "name": "stdout",
     "output_type": "stream",
     "text": [
      "the given character is a vowel\n"
     ]
    }
   ],
   "source": [
    "# task 12\n",
    "char = input('enter a character here: ')\n",
    "vowels = 'AEIOUaeiou'\n",
    "if char in vowels:\n",
    "    print('the given character is a vowel')\n",
    "else:\n",
    "    print('the given character is a consonant')"
   ]
  },
  {
   "cell_type": "code",
   "execution_count": 83,
   "id": "7aed8ca9-b8ef-4f05-8993-f4bbc01d7d25",
   "metadata": {},
   "outputs": [
    {
     "name": "stdin",
     "output_type": "stream",
     "text": [
      "enter a year here:  1995\n"
     ]
    },
    {
     "name": "stdout",
     "output_type": "stream",
     "text": [
      "not a leap year\n"
     ]
    }
   ],
   "source": [
    "# task 13\n",
    "year = int(input('enter a year here: '))\n",
    "if year %4 == 0 and year %100 == 0 and year %400 == 0:\n",
    "    print('this is a leap year')\n",
    "elif year %100 != 0 and year %4 == 0:\n",
    "    print('this is a leap year')\n",
    "else:\n",
    "    print('not a leap year')"
   ]
  }
 ],
 "metadata": {
  "kernelspec": {
   "display_name": "Python 3 (ipykernel)",
   "language": "python",
   "name": "python3"
  },
  "language_info": {
   "codemirror_mode": {
    "name": "ipython",
    "version": 3
   },
   "file_extension": ".py",
   "mimetype": "text/x-python",
   "name": "python",
   "nbconvert_exporter": "python",
   "pygments_lexer": "ipython3",
   "version": "3.12.7"
  }
 },
 "nbformat": 4,
 "nbformat_minor": 5
}
