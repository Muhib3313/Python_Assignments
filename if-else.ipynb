{
 "cells": [
  {
   "cell_type": "markdown",
   "id": "8773c7eb-d39c-47da-94d8-ae02ade207b4",
   "metadata": {},
   "source": [
    "# assignment 3 (if else)"
   ]
  },
  {
   "cell_type": "code",
   "execution_count": null,
   "id": "fb5d3dbe-6eea-41c4-bbe8-b6d08adb655a",
   "metadata": {},
   "outputs": [],
   "source": [
    "# task 1\n",
    "purchase = float(input(\"enter the purchase you made: \"))\n",
    "if purchase > 100 :\n",
    "    print(\"you can avail 10% discount\")\n",
    "    print(\"you have to made the final payment of:\",(purchase)*90/100 ,\"rs\")\n",
    "else:\n",
    "    print(\"sorry you can't avail any discount\")"
   ]
  },
  {
   "cell_type": "code",
   "execution_count": null,
   "id": "bdc287e2-6986-41f3-b94a-4452187f0243",
   "metadata": {},
   "outputs": [],
   "source": [
    "# task 2\n",
    "items_purchased = int(input('enter the number of items purchased: '))\n",
    "total_price = int(input('enter the total price of items purchased'))\n",
    "if items_purchased > 5 :\n",
    "    print('you can avail 15% discount')\n",
    "    print('you have to pay:',(total_price)*85/100,\"rs after discount\")\n",
    "else: \n",
    "    print('sorry! no discount')"
   ]
  },
  {
   "cell_type": "code",
   "execution_count": 159,
   "id": "5bd0c4be-e399-4105-870f-17fb9461e2e8",
   "metadata": {},
   "outputs": [
    {
     "name": "stdin",
     "output_type": "stream",
     "text": [
      "are you a member:  \n",
      "enter the price of items you purchased:  4500\n"
     ]
    },
    {
     "name": "stdout",
     "output_type": "stream",
     "text": [
      "you are eligible for a discount of 5% i.e,:225.0\n",
      "your payable full and final price is,:4275.0\n"
     ]
    }
   ],
   "source": [
    "# task 3\n",
    "is_member = bool(input('are you a member: '))\n",
    "price_payable = float(input('enter the price of items you purchased: '))\n",
    "if is_member:\n",
    "    print(f'you are eligible for a discount of 20% i.e,:{price_payable * 20/100}')\n",
    "    print(f'your payable full and final price is,:{price_payable * 80/100}')\n",
    "else:\n",
    "    print(f'you are eligible for a discount of 5% i.e,:{price_payable * 5/100}')\n",
    "    print(f'your payable full and final price is,:{price_payable * 95/100}')"
   ]
  },
  {
   "cell_type": "code",
   "execution_count": 169,
   "id": "f9a2e09e-d608-475f-a4d5-762e1e51e521",
   "metadata": {},
   "outputs": [
    {
     "name": "stdin",
     "output_type": "stream",
     "text": [
      "enter the number of items purchased:  8\n",
      "enter the price of items:  4000\n"
     ]
    },
    {
     "name": "stdout",
     "output_type": "stream",
     "text": [
      "you have to half price i.e,2000.0\n"
     ]
    }
   ],
   "source": [
    "#### task 4\n",
    "num_of_items = float(input('enter the number of items purchased: '))\n",
    "price_of_items= float(input('enter the price of items: '))\n",
    "if num_of_items %2 == 0 :\n",
    "    print(f'you have to half price i.e,{price_of_items/2}')\n",
    "else:\n",
    "    print(f'you have to pay full price:{price_of_items}')"
   ]
  },
  {
   "cell_type": "code",
   "execution_count": 19,
   "id": "758abbc1-ad56-427d-80fa-67a6ad791cb3",
   "metadata": {},
   "outputs": [
    {
     "name": "stdin",
     "output_type": "stream",
     "text": [
      "Enter the number of items purchased:  7\n",
      "enter the price of items:  987\n"
     ]
    },
    {
     "name": "stdout",
     "output_type": "stream",
     "text": [
      "you have to pay full price i.e, rs987.0\n"
     ]
    }
   ],
   "source": [
    "# task 5 (buy one get one free)\n",
    "no_of_items = int(input(\"Enter the number of items purchased: \"))\n",
    "price = float(input('enter the price of items: '))\n",
    "if no_of_items %2 == 0:\n",
    "    print(f\"you have to half price i.e,Rs{price/2}\")\n",
    "else:\n",
    "    print(f\"you have to pay full price i.e, rs{price}\")"
   ]
  },
  {
   "cell_type": "code",
   "execution_count": 7,
   "id": "40eb3a44-ccd5-4b7a-8756-8a0c83d830c4",
   "metadata": {},
   "outputs": [
    {
     "name": "stdin",
     "output_type": "stream",
     "text": [
      "enter the price of item you purchased:  4500\n"
     ]
    },
    {
     "name": "stdout",
     "output_type": "stream",
     "text": [
      "tax will be applied @ 15% i.e,675.0\n",
      "you have to pay Rs.5175.0\n"
     ]
    }
   ],
   "source": [
    "# task 6 \n",
    "price_of_item = float(input('enter the price of item you purchased: '))\n",
    "if price_of_item > 500 :\n",
    "    print(f'tax will be applied @ 15% i.e,{price_of_item * 15/100}')\n",
    "    print(f'you have to pay Rs.{price_of_item+price_of_item * 15/100}')\n",
    "else:\n",
    "    print(f'tax will be applied @ 8% i.e,{price_of_item * 8/100}')\n",
    "    print(f'you have to pay Rs.{price_of_item+price_of_item * 8/100}')"
   ]
  },
  {
   "cell_type": "code",
   "execution_count": 9,
   "id": "f89501be-9b55-4db6-a791-7e4e50d9fb6c",
   "metadata": {},
   "outputs": [
    {
     "name": "stdin",
     "output_type": "stream",
     "text": [
      "enter your monthly income:  50000\n"
     ]
    },
    {
     "name": "stdout",
     "output_type": "stream",
     "text": [
      "you have to pay tax @ 20% i.e, Rs.10000.0\n"
     ]
    }
   ],
   "source": [
    "# task 7\n",
    "income = float(input('enter your monthly income: '))\n",
    "if income > 20000:\n",
    "    print(f'you have to pay tax @ 20% i.e, Rs.{income * 20/100}')\n",
    "else:\n",
    "    print(f'you have to pay tax @ 10% i.e, Rs.{inincome*10/100}')"
   ]
  },
  {
   "cell_type": "code",
   "execution_count": 23,
   "id": "bc8c67c6-5476-4b75-8df6-8533290d9f9c",
   "metadata": {},
   "outputs": [
    {
     "name": "stdin",
     "output_type": "stream",
     "text": [
      "enter your incom:  101000\n"
     ]
    },
    {
     "name": "stdout",
     "output_type": "stream",
     "text": [
      "high tax\n"
     ]
    }
   ],
   "source": [
    "# task 8\n",
    "inc = float(input('enter your incom: '))\n",
    "if inc < 30000:\n",
    "    print('Low tax')\n",
    "elif inc >= 30000 and inc <= 100000:\n",
    "    print('medium tax')\n",
    "else:\n",
    "    print('high tax')"
   ]
  },
  {
   "cell_type": "code",
   "execution_count": 21,
   "id": "e9c65265-63b0-4656-928f-0b138a88704c",
   "metadata": {},
   "outputs": [
    {
     "name": "stdin",
     "output_type": "stream",
     "text": [
      "enter price of item:  44\n"
     ]
    },
    {
     "name": "stdout",
     "output_type": "stream",
     "text": [
      "this is not an essential product you have to pay : 49.28\n"
     ]
    }
   ],
   "source": [
    "# task 9\n",
    "is_essential =bool(False) \n",
    "price = float(input('enter price of item: '))\n",
    "if is_essential:\n",
    "    print(f'this is essentail product under VAT,you have to pay:{price * 5/100 + price}')\n",
    "else:\n",
    "    print(f'this is not an essential product you have to pay : {price * 12/100 + price}')"
   ]
  },
  {
   "cell_type": "code",
   "execution_count": 27,
   "id": "d850bf31-798d-4ac2-ac61-fbe16b551f54",
   "metadata": {},
   "outputs": [
    {
     "name": "stdin",
     "output_type": "stream",
     "text": [
      "enter price of item:  455\n"
     ]
    },
    {
     "name": "stdout",
     "output_type": "stream",
     "text": [
      "congrats today is tax free day,you have to pay only:455.0\n"
     ]
    }
   ],
   "source": [
    "# task 10\n",
    "is_tax_freeday =bool(True) \n",
    "price = float(input('enter price of item: '))\n",
    "if is_tax_freeday:\n",
    "    print(f'congrats today is tax free day,you have to pay only:{price}')\n",
    "else:\n",
    "    print(f'you have to pay price + tax i.e,: {price * 7/100 + price}')"
   ]
  },
  {
   "cell_type": "code",
   "execution_count": 33,
   "id": "8c5183bf-f316-4be9-b10d-6e7ee8cb265b",
   "metadata": {},
   "outputs": [
    {
     "name": "stdin",
     "output_type": "stream",
     "text": [
      "enter the amount of purchasing:  42\n"
     ]
    },
    {
     "name": "stdout",
     "output_type": "stream",
     "text": [
      "you have to pay price + delivery charges($5) i.e, $47.0\n"
     ]
    }
   ],
   "source": [
    "# task 11\n",
    "amount_of_purchase = float(input('enter the amount of purchasing: '))\n",
    "if amount_of_purchase > 50:\n",
    "    print(f'you delivery will be free you have to pay only: ${amount_of_purchase}')\n",
    "else:\n",
    "    print(f'you have to pay price + delivery charges($5) i.e, ${amount_of_purchase+5}')"
   ]
  },
  {
   "cell_type": "code",
   "execution_count": 37,
   "id": "5bef0af3-b1c9-46ce-a5a5-9ae7d081eec3",
   "metadata": {},
   "outputs": [
    {
     "name": "stdin",
     "output_type": "stream",
     "text": [
      "enter discount code:  DISCOUNT10\n",
      "enter the amount of purchasing:  4500\n"
     ]
    },
    {
     "name": "stdout",
     "output_type": "stream",
     "text": [
      "you have to pay amount after 10% discount i.e,:4050.0\n"
     ]
    }
   ],
   "source": [
    "# task 12\n",
    "Discount_code = \"DISCOUNT10\"\n",
    "code_entry = input('enter discount code: ')\n",
    "amount_to_pay =float(input('enter the amount of purchasing: '))\n",
    "if code_entry == Discount_code:\n",
    "    print(f'you have to pay amount after 10% discount i.e,:{amount_to_pay * 90/100}')\n",
    "else:\n",
    "    print(f'you have to pay full price i.e,{amount_to_pay}')"
   ]
  },
  {
   "cell_type": "code",
   "execution_count": 49,
   "id": "aad8f23d-9ca7-41d0-a42d-71aacea8a5a3",
   "metadata": {},
   "outputs": [
    {
     "name": "stdin",
     "output_type": "stream",
     "text": [
      "enter the tatal price :  0\n"
     ]
    },
    {
     "name": "stdout",
     "output_type": "stream",
     "text": [
      "no discount\n"
     ]
    }
   ],
   "source": [
    "#task 13\n",
    "total_price = float(input('enter the tatal price : '))\n",
    "if total_price >= 0 and total_price < 50:\n",
    "    print('no discount')\n",
    "elif total_price >= 50 and total_price <= 100:\n",
    "    print(f'10% discount i.e,{total_price * 10/100}')\n",
    "    print(f'you have to pay:{total_price * 90/100}')\n",
    "else:\n",
    "    print(f'20% discount i.e,{total_price * 20/100}')\n",
    "    print(f'you have to pay:{total_price * 80/100}')"
   ]
  },
  {
   "cell_type": "code",
   "execution_count": 53,
   "id": "cd631ec1-83c3-4914-bc82-1f586476d5bd",
   "metadata": {},
   "outputs": [
    {
     "name": "stdin",
     "output_type": "stream",
     "text": [
      "enter total amount of purchase:  15\n"
     ]
    },
    {
     "name": "stdout",
     "output_type": "stream",
     "text": [
      "minimum purchase of 20$ is required.\n"
     ]
    }
   ],
   "source": [
    "# task 14\n",
    "total_purchase = float(input('enter total amount of purchase: '))\n",
    "if total_purchase < 20:\n",
    "    print('minimum purchase of 20$ is required.')\n",
    "else:\n",
    "    print(f'you have to pay ${total_purchase}')"
   ]
  },
  {
   "cell_type": "code",
   "execution_count": 81,
   "id": "c600babd-96df-48b2-a812-0a5afcdb3af3",
   "metadata": {},
   "outputs": [
    {
     "name": "stdin",
     "output_type": "stream",
     "text": [
      "enter your status:  \n"
     ]
    },
    {
     "name": "stdout",
     "output_type": "stream",
     "text": [
      "you have earned standard laylty points\n"
     ]
    }
   ],
   "source": [
    "# task 15\n",
    "is_loyal = bool(input('enter your status: '))\n",
    "if is_loyal:\n",
    "    print('you have earned double loyalty points')\n",
    "else:\n",
    "    print('you have earned standard laylty points')"
   ]
  },
  {
   "cell_type": "code",
   "execution_count": 83,
   "id": "0198e969-9f6b-437c-a1e8-9a81cf3dc4e9",
   "metadata": {},
   "outputs": [
    {
     "name": "stdin",
     "output_type": "stream",
     "text": [
      "enter the disrance travlled:  800\n",
      "enter ticket price:  4500\n"
     ]
    },
    {
     "name": "stdout",
     "output_type": "stream",
     "text": [
      "you are eligible for a discount of 20% i.e,900.0\n",
      "you have to pay: 3600.0\n"
     ]
    }
   ],
   "source": [
    "# task 16\n",
    "distance_in_miles = float(input('enter the disrance travlled: '))\n",
    "ticket_price = int(input('enter ticket price: '))\n",
    "if distance_in_miles > 500:\n",
    "    print(f'you are eligible for a discount of 20% i.e,{ticket_price*20/100}')\n",
    "    print(f'you have to pay: {ticket_price*80/100}')\n",
    "else:\n",
    "    print(f\"no discount you have to pay full price i.e,:{ticket_price}\")"
   ]
  },
  {
   "cell_type": "code",
   "execution_count": 99,
   "id": "e7575af1-1cdb-4007-873b-e0af66c8e4f6",
   "metadata": {},
   "outputs": [
    {
     "name": "stdin",
     "output_type": "stream",
     "text": [
      "enter your age:  8\n",
      "enter the ticket amount:  780\n"
     ]
    },
    {
     "name": "stdout",
     "output_type": "stream",
     "text": [
      "you can aviail a discount of 15% i,e: 117.0\n",
      "you have to pay: 663.0\n"
     ]
    }
   ],
   "source": [
    "# task 17\n",
    "age = int(input('enter your age: '))\n",
    "ticket_amount = float(input('enter the ticket amount: '))\n",
    "if age <= 12 or age >= 60:\n",
    "    print(f'you can aviail a discount of 15% i,e: {ticket_amount* 15/100}')\n",
    "    print(f'you have to pay: {ticket_amount * 85/100}')\n",
    "else:\n",
    "    print(f'you have to full privce i.e,:{ticket_amount}')"
   ]
  },
  {
   "cell_type": "code",
   "execution_count": 111,
   "id": "fb9a8b0f-b19d-489c-b954-9bf4a4ff92ee",
   "metadata": {},
   "outputs": [
    {
     "name": "stdin",
     "output_type": "stream",
     "text": [
      "enter yes or no:  100\n",
      "enter ticket price 100\n"
     ]
    },
    {
     "name": "stdout",
     "output_type": "stream",
     "text": [
      "you have to pay a 10% surcharge on ticket price:10.0\n",
      "you have to pay:110.0\n"
     ]
    }
   ],
   "source": [
    "# task 18\n",
    "is_weekned = bool(input('enter yes or no: '))\n",
    "ticket_price = float(input('enter ticket price'))\n",
    "if is_weekned:\n",
    "    print(f'you have to pay a 10% surcharge on ticket price:{ticket_price * 10/100}')\n",
    "    print(f'you have to pay:{ticket_price * 110/100}')\n",
    "else:\n",
    "    print(f'you have to pay standard price {ticket_price}')"
   ]
  },
  {
   "cell_type": "code",
   "execution_count": 123,
   "id": "84db74e5-2bfe-454f-94d7-5a397becb83c",
   "metadata": {},
   "outputs": [
    {
     "name": "stdin",
     "output_type": "stream",
     "text": [
      "enter weight:  19\n"
     ]
    },
    {
     "name": "stdout",
     "output_type": "stream",
     "text": [
      "you dont have to pay any extra fee.\n"
     ]
    }
   ],
   "source": [
    "# task 19\n",
    "baggage_weight = float(input('enter weight: '))\n",
    "if baggage_weight > 20:\n",
    "    print('you have to pay $10 on each kg above 20kg')\n",
    "    print(f'you have to pay surcharge: ${(baggage_weight - 20)*10}')\n",
    "else:\n",
    "    print('you dont have to pay any extra fee.')"
   ]
  },
  {
   "cell_type": "code",
   "execution_count": 127,
   "id": "8945a56a-e87f-486d-9bdf-d6be45bf589b",
   "metadata": {},
   "outputs": [
    {
     "name": "stdin",
     "output_type": "stream",
     "text": [
      "enter how many days in advance you booked the ticket:  32\n",
      "enter ticket price:  200\n"
     ]
    },
    {
     "name": "stdout",
     "output_type": "stream",
     "text": [
      "you are eligible to avail 20% dicount 40.0\n"
     ]
    }
   ],
   "source": [
    "# task 20\n",
    "is_early = int(input('enter how many days in advance you booked the ticket: '))\n",
    "t_price = int(input('enter ticket price: '))\n",
    "if is_early >= 30:\n",
    "    print(f'you are eligible to avail 20% dicount {t_price * 20/100}')\n",
    "else:\n",
    "    print('you have to pay full anount')"
   ]
  },
  {
   "cell_type": "code",
   "execution_count": 131,
   "id": "9e8e2d4d-f11e-4cea-aaff-cb2e5ec6de29",
   "metadata": {},
   "outputs": [
    {
     "name": "stdin",
     "output_type": "stream",
     "text": [
      "enter your obtained marks 33\n"
     ]
    },
    {
     "name": "stdout",
     "output_type": "stream",
     "text": [
      "fail\n"
     ]
    }
   ],
   "source": [
    "# task 21\n",
    "stds_score = int(input('enter your obtained marks'))\n",
    "if stds_score >= 40:\n",
    "    print('pass')\n",
    "else:\n",
    "    print('fail')"
   ]
  },
  {
   "cell_type": "code",
   "execution_count": 141,
   "id": "100f369b-569d-4ba5-bc19-71b992d8665b",
   "metadata": {},
   "outputs": [
    {
     "name": "stdin",
     "output_type": "stream",
     "text": [
      "enter your marks:  95\n"
     ]
    },
    {
     "name": "stdout",
     "output_type": "stream",
     "text": [
      "grade: A\n"
     ]
    }
   ],
   "source": [
    "# task 22\n",
    "std_marks = float(input('enter your marks: '))\n",
    "if std_marks >= 90 :\n",
    "    print('grade: A')\n",
    "elif std_marks <= 89 and std_marks >= 75:\n",
    "    print('grade : B')\n",
    "elif std_marks <= 74 and std_marks >= 50:\n",
    "    print('grade : c')\n",
    "else:\n",
    "    print('fail')"
   ]
  },
  {
   "cell_type": "code",
   "execution_count": 145,
   "id": "62485989-e116-4a00-9560-4f80c51403ce",
   "metadata": {},
   "outputs": [
    {
     "name": "stdin",
     "output_type": "stream",
     "text": [
      "have you done all the assignments?:  yes\n"
     ]
    },
    {
     "name": "stdout",
     "output_type": "stream",
     "text": [
      "you can get bonus marks,now your total marsk are:59\n"
     ]
    }
   ],
   "source": [
    "# task 23\n",
    "assignment = str(input('have you done all the assignments?: '))\n",
    "marks = 54\n",
    "if assignment == 'yes':\n",
    "    print(f'you can get bonus marks,now your total marsk are:{marks+5}')\n",
    "else:\n",
    "    print('you are not eligible for bonus marks')"
   ]
  },
  {
   "cell_type": "code",
   "execution_count": 147,
   "id": "b6429137-3348-49cb-9eff-8cb5053f18b0",
   "metadata": {},
   "outputs": [
    {
     "name": "stdin",
     "output_type": "stream",
     "text": [
      "how much was your attendence:  75\n"
     ]
    },
    {
     "name": "stdout",
     "output_type": "stream",
     "text": [
      "you are eligible for exam\n"
     ]
    }
   ],
   "source": [
    "# task 24\n",
    "attendence = float(input('how much was your attendence: '))\n",
    "if attendence >= 75:\n",
    "    print('you are eligible for exam')\n",
    "else:\n",
    "    print('you are not eligible for the exam')"
   ]
  },
  {
   "cell_type": "code",
   "execution_count": 153,
   "id": "dae8d381-8a1e-42aa-a56f-2af273940c22",
   "metadata": {},
   "outputs": [
    {
     "name": "stdin",
     "output_type": "stream",
     "text": [
      "enter your grade:  A\n",
      "enter your familiy's annual income:  4500\n"
     ]
    },
    {
     "name": "stdout",
     "output_type": "stream",
     "text": [
      "you are eligible for scholarship\n"
     ]
    }
   ],
   "source": [
    "# task 25\n",
    "grade = str(input(\"enter your grade: \"))\n",
    "annual_inc = float(input(\"enter your familiy's annual income: \"))\n",
    "if grade == \"A\"and annual_inc < 30000:\n",
    "    print('you are eligible for scholarship')\n",
    "else:\n",
    "    print('sorry! you are not eligible for scholarship')"
   ]
  },
  {
   "cell_type": "code",
   "execution_count": null,
   "id": "933fd7bb-2ad9-4b97-b6ce-47938cee0e73",
   "metadata": {},
   "outputs": [],
   "source": []
  }
 ],
 "metadata": {
  "kernelspec": {
   "display_name": "Python 3 (ipykernel)",
   "language": "python",
   "name": "python3"
  },
  "language_info": {
   "codemirror_mode": {
    "name": "ipython",
    "version": 3
   },
   "file_extension": ".py",
   "mimetype": "text/x-python",
   "name": "python",
   "nbconvert_exporter": "python",
   "pygments_lexer": "ipython3",
   "version": "3.12.7"
  }
 },
 "nbformat": 4,
 "nbformat_minor": 5
}
