{
 "cells": [
  {
   "cell_type": "code",
   "execution_count": 7,
   "id": "c575f766-d0d0-4735-8147-b121f4041783",
   "metadata": {},
   "outputs": [
    {
     "name": "stdin",
     "output_type": "stream",
     "text": [
      "Enter a list of elements separated by space:  1 2 3 4 5 6\n"
     ]
    },
    {
     "name": "stdout",
     "output_type": "stream",
     "text": [
      "Alternate elements of the list are: ['1', '3', '5']\n"
     ]
    }
   ],
   "source": [
    "# task 1\n",
    "user_input = input(\"Enter a list of elements separated by space: \")\n",
    "\n",
    "elements = user_input.split()\n",
    "\n",
    "print(\"Alternate elements of the list are:\", elements[::2])\n"
   ]
  },
  {
   "cell_type": "code",
   "execution_count": 15,
   "id": "7f191514-436e-4469-bb13-a1f12d8d7774",
   "metadata": {},
   "outputs": [
    {
     "name": "stdin",
     "output_type": "stream",
     "text": [
      "Enter a list of elements separated by space:   1 2 3 4 5\n"
     ]
    },
    {
     "name": "stdout",
     "output_type": "stream",
     "text": [
      "the reversed list is: ['5', '4', '3', '2', '1']\n"
     ]
    }
   ],
   "source": [
    "# task 2\n",
    "user_input = input(\"Enter a list of elements separated by space: \")\n",
    "\n",
    "elements = user_input.split()\n",
    "\n",
    "print(\"the reversed list is:\", elements[::-1])\n"
   ]
  },
  {
   "cell_type": "code",
   "execution_count": 23,
   "id": "f3346d00-0670-40e0-84cf-89102a7b1013",
   "metadata": {},
   "outputs": [
    {
     "name": "stdin",
     "output_type": "stream",
     "text": [
      "enter numbers separated by spaces:  125 452 789 12 654 785\n"
     ]
    },
    {
     "name": "stdout",
     "output_type": "stream",
     "text": [
      "the largest number of list is: 789.0\n"
     ]
    }
   ],
   "source": [
    "# task 3\n",
    "def large_number(lst):\n",
    "    if not lst:\n",
    "        return none\n",
    "\n",
    "    large = lst[0]\n",
    "    for i in lst:\n",
    "        if i > large:\n",
    "            large = i\n",
    "    return large\n",
    "user_input = input('enter numbers separated by spaces: ')\n",
    "num_list = [float(x) for x in user_input.split()]\n",
    "largest_number = large_number(num_list)\n",
    "print(f'the largest number of list is: {largest_number}')"
   ]
  },
  {
   "cell_type": "code",
   "execution_count": 49,
   "id": "650717fb-63de-4c61-97b0-50bfec3223bd",
   "metadata": {},
   "outputs": [
    {
     "name": "stdin",
     "output_type": "stream",
     "text": [
      "Enter a list of elements separated by space:  45 45 78 96 12 45 69\n"
     ]
    },
    {
     "name": "stdout",
     "output_type": "stream",
     "text": [
      "['69', '45', '45', '78', '96', '12', '45']\n"
     ]
    }
   ],
   "source": [
    "# task 4\n",
    "user_input = input(\"Enter a list of elements separated by space: \")\n",
    "elements = user_input.split()\n",
    "moved_elements = [elements[-1]] + elements[:-1]\n",
    "print(moved_elements)"
   ]
  },
  {
   "cell_type": "code",
   "execution_count": 63,
   "id": "05586fe4-cd6a-44fa-91d2-eb4d00fd6713",
   "metadata": {},
   "outputs": [
    {
     "name": "stdin",
     "output_type": "stream",
     "text": [
      "Enter a string:  all is well in 3 idiots film of amir khan\n",
      "Enter the word to delete:  amir\n"
     ]
    },
    {
     "name": "stdout",
     "output_type": "stream",
     "text": [
      "The updated string is: all is well in 3 idiots film of khan\n"
     ]
    }
   ],
   "source": [
    "# task 5\n",
    "def delete_word_from_string(input_string, word_to_delete):\n",
    "    words = input_string.split()\n",
    "    \n",
    "    result_words = [word for word in words if word != word_to_delete]\n",
    "    \n",
    "    return ' '.join(result_words)\n",
    "\n",
    "try:\n",
    "    input_string = input(\"Enter a string: \")\n",
    "    word_to_delete = input(\"Enter the word to delete: \")\n",
    "\n",
    "    if not input_string:\n",
    "        print(\"The input string is empty. Please provide a valid string.\")\n",
    "    else:\n",
    "        updated_string = delete_word_from_string(input_string, word_to_delete)\n",
    "        print(f\"The updated string is: {updated_string}\")\n",
    "except Exception as e:\n",
    "    print(f\"An error occurred: {e}\")\n"
   ]
  },
  {
   "cell_type": "code",
   "execution_count": 3,
   "id": "0eb91e19-4af4-4f1d-b5f6-4e51321d809a",
   "metadata": {},
   "outputs": [
    {
     "name": "stdin",
     "output_type": "stream",
     "text": [
      "Enter a date in mm/dd/yyyy format:  12/11/1994\n"
     ]
    },
    {
     "name": "stdout",
     "output_type": "stream",
     "text": [
      "December 11, 1994\n"
     ]
    }
   ],
   "source": [
    "# task 6\n",
    "month_names = {\n",
    "        \"01\": \"January\", \"02\": \"February\", \"03\": \"March\", \"04\": \"April\",\n",
    "        \"05\": \"May\", \"06\": \"June\", \"07\": \"July\", \"08\": \"August\",\n",
    "        \"09\": \"September\", \"10\": \"October\", \"11\": \"November\", \"12\": \"December\"\n",
    "    }\n",
    "date_input = input(\"Enter a date in mm/dd/yyyy format: \")\n",
    "month, day, year = date_input.split(\"/\")\n",
    "month_name = month_names[month]\n",
    "print( f\"{month_name} {int(day)}, {year}\")"
   ]
  },
  {
   "cell_type": "code",
   "execution_count": 15,
   "id": "5396648f-9573-4bdf-a39d-8edc6864538b",
   "metadata": {},
   "outputs": [
    {
     "name": "stdin",
     "output_type": "stream",
     "text": [
      "Enter a list of elements separated by space:  stop and smell the roses\n"
     ]
    },
    {
     "name": "stdout",
     "output_type": "stream",
     "text": [
      "Alternate elements of the list are: Stop And Smell The Roses\n"
     ]
    }
   ],
   "source": [
    "# task 7\n",
    "user_input = input(\"Enter a list of elements separated by space: \")\n",
    "\n",
    "capitalized_sentence = user_input.title()\n",
    "\n",
    "print(\"Alternate elements of the list are:\", capitalized_sentence)"
   ]
  },
  {
   "cell_type": "code",
   "execution_count": 21,
   "id": "331adb90-d0e3-4303-b5d5-eca446c15ba1",
   "metadata": {},
   "outputs": [
    {
     "name": "stdin",
     "output_type": "stream",
     "text": [
      "Enter the number of rows (m):  2\n",
      "Enter the number of columns (n):  2\n"
     ]
    },
    {
     "name": "stdout",
     "output_type": "stream",
     "text": [
      "Enter the matrix of size 2x2 (row by row):\n"
     ]
    },
    {
     "name": "stdin",
     "output_type": "stream",
     "text": [
      "Row 1:  4 9\n",
      "Row 2:  4 3\n"
     ]
    },
    {
     "name": "stdout",
     "output_type": "stream",
     "text": [
      "Sum of row 1 = 13\n",
      "Sum of row 2 = 7\n"
     ]
    }
   ],
   "source": [
    "# task 8\n",
    "def row_sums(matrix):\n",
    "    return [sum(row) for row in matrix]\n",
    "\n",
    "def input_matrix(rows, cols):\n",
    "    print(f\"Enter the matrix of size {rows}x{cols} (row by row):\")\n",
    "    matrix = []\n",
    "    for i in range(rows):\n",
    "        row = list(map(int, input(f\"Row {i+1}: \").split()))\n",
    "        if len(row) != cols:\n",
    "            raise ValueError(\"Each row must have exactly {cols} elements\")\n",
    "        matrix.append(row)\n",
    "    return matrix\n",
    "\n",
    "if __name__ == \"__main__\":\n",
    "    # Input dimensions\n",
    "    m = int(input(\"Enter the number of rows (m): \"))\n",
    "    n = int(input(\"Enter the number of columns (n): \"))\n",
    "\n",
    "    matrix = input_matrix(m, n)\n",
    "\n",
    "    sums = row_sums(matrix)\n",
    "\n",
    "    for i, row_sum in enumerate(sums, start=1):\n",
    "        print(f\"Sum of row {i} = {row_sum}\")\n"
   ]
  },
  {
   "cell_type": "code",
   "execution_count": 5,
   "id": "ace831b7-30d8-4a78-83b0-f9d4c6e692f4",
   "metadata": {},
   "outputs": [
    {
     "ename": "SyntaxError",
     "evalue": "expected ':' (1419859838.py, line 2)",
     "output_type": "error",
     "traceback": [
      "\u001b[1;36m  Cell \u001b[1;32mIn[5], line 2\u001b[1;36m\u001b[0m\n\u001b[1;33m    def add_matrices(matrix1, matrix2)\u001b[0m\n\u001b[1;37m                                      ^\u001b[0m\n\u001b[1;31mSyntaxError\u001b[0m\u001b[1;31m:\u001b[0m expected ':'\n"
     ]
    }
   ],
   "source": [
    "# task 9\n",
    "def add_matrices(matrix1, matrix2):\n",
    "    if len(matrix1) != len(matrix2) or len(matrix1[0]) != len(matrix2[0]):\n",
    "        raise ValueError(\"Matrices must have the same dimensions\")\n",
    "\n",
    "    rows, cols = len(matrix1), len(matrix1[0])\n",
    "    result = [[0 for _ in range(cols)] for _ in range(rows)]\n",
    "\n",
    "    for i in range(rows):\n",
    "        for j in range(cols):\n",
    "            result[i][j] = matrix1[i][j] + matrix2[i][j]\n",
    "\n",
    "    return result\n",
    "\n",
    "def input_matrix(rows, cols):\n",
    "    print(f\"Enter the matrix of size {rows}x{cols} (row by row):\")\n",
    "    matrix = []\n",
    "    for i in range(rows):\n",
    "        row = list(map(int, input(f\"Row {i+1}: \").split()))\n",
    "        if len(row) != cols:\n",
    "            raise ValueError(\"Each row must have exactly {cols} elements\")\n",
    "        matrix.append(row)\n",
    "    return matrix\n",
    "\n",
    "if __name__ == \"__main__\":\n",
    "    # Input dimensions\n",
    "    n = int(input(\"Enter the number of rows (n): \"))\n",
    "    m = int(input(\"Enter the number of columns (m): \"))\n",
    "\n",
    "    print(\"Matrix 1:\")\n",
    "    matrix1 = input_matrix(n, m)\n",
    "\n",
    "    print(\"Matrix 2:\")\n",
    "    matrix2 = input_matrix(n, m)\n",
    "\n",
    "    try:\n",
    "        result_matrix = add_matrices(matrix1, matrix2)\n",
    "        print(\"\\nResultant Matrix:\")\n",
    "        for row in result_matrix:\n",
    "            print(\" \".join(map(str, row)))\n",
    "    except ValueError as e:\n",
    "        print(\"Error:\", e)\n"
   ]
  },
  {
   "cell_type": "code",
   "execution_count": 3,
   "id": "7b0ad7ff-2345-499e-aeff-b613e390627b",
   "metadata": {},
   "outputs": [
    {
     "name": "stdin",
     "output_type": "stream",
     "text": [
      "Enter the number of rows (n):  2\n",
      "Enter the number of columns (m):  2\n"
     ]
    },
    {
     "name": "stdout",
     "output_type": "stream",
     "text": [
      "Matrix 1:\n",
      "Enter the matrix of size 2x2 (row by row):\n"
     ]
    },
    {
     "name": "stdin",
     "output_type": "stream",
     "text": [
      "Row 1:  1 5\n",
      "Row 2:  7 8\n"
     ]
    },
    {
     "name": "stdout",
     "output_type": "stream",
     "text": [
      "Matrix 2:\n",
      "Enter the matrix of size 2x2 (row by row):\n"
     ]
    },
    {
     "name": "stdin",
     "output_type": "stream",
     "text": [
      "Row 1:  4 5\n",
      "Row 2:  6 3\n"
     ]
    },
    {
     "name": "stdout",
     "output_type": "stream",
     "text": [
      "\n",
      "Resultant Matrix:\n",
      "4 25\n",
      "42 24\n"
     ]
    }
   ],
   "source": [
    "# task 10\n",
    "def add_matrices(matrix1, matrix2):\n",
    "    if len(matrix1) != len(matrix2) or len(matrix1[0]) != len(matrix2[0]):\n",
    "        raise ValueError(\"Matrices must have the same dimensions\")\n",
    "\n",
    "    rows, cols = len(matrix1), len(matrix1[0])\n",
    "    result = [[0 for _ in range(cols)] for _ in range(rows)]\n",
    "\n",
    "    for i in range(rows):\n",
    "        for j in range(cols):\n",
    "            result[i][j] = matrix1[i][j] * matrix2[i][j]\n",
    "\n",
    "    return result\n",
    "\n",
    "def input_matrix(rows, cols):\n",
    "    print(f\"Enter the matrix of size {rows}x{cols} (row by row):\")\n",
    "    matrix = []\n",
    "    for i in range(rows):\n",
    "        row = list(map(int, input(f\"Row {i+1}: \").split()))\n",
    "        if len(row) != cols:\n",
    "            raise ValueError(\"Each row must have exactly {cols} elements\")\n",
    "        matrix.append(row)\n",
    "    return matrix\n",
    "\n",
    "if __name__ == \"__main__\":\n",
    "    # Input dimensions\n",
    "    n = int(input(\"Enter the number of rows (n): \"))\n",
    "    m = int(input(\"Enter the number of columns (m): \"))\n",
    "\n",
    "    print(\"Matrix 1:\")\n",
    "    matrix1 = input_matrix(n, m)\n",
    "\n",
    "    print(\"Matrix 2:\")\n",
    "    matrix2 = input_matrix(n, m)\n",
    "\n",
    "    try:\n",
    "        result_matrix = add_matrices(matrix1, matrix2)\n",
    "        print(\"\\nResultant Matrix:\")\n",
    "        for row in result_matrix:\n",
    "            print(\" \".join(map(str, row)))\n",
    "    except ValueError as e:\n",
    "        print(\"Error:\", e)\n"
   ]
  },
  {
   "cell_type": "code",
   "execution_count": null,
   "id": "85b608c3-24bf-469c-a7a0-225a496bd7e4",
   "metadata": {},
   "outputs": [],
   "source": []
  }
 ],
 "metadata": {
  "kernelspec": {
   "display_name": "Python 3 (ipykernel)",
   "language": "python",
   "name": "python3"
  },
  "language_info": {
   "codemirror_mode": {
    "name": "ipython",
    "version": 3
   },
   "file_extension": ".py",
   "mimetype": "text/x-python",
   "name": "python",
   "nbconvert_exporter": "python",
   "pygments_lexer": "ipython3",
   "version": "3.12.7"
  }
 },
 "nbformat": 4,
 "nbformat_minor": 5
}
