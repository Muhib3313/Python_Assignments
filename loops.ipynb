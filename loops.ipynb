{
 "cells": [
  {
   "cell_type": "markdown",
   "id": "7ae14ef0-75f6-447b-8115-4ff828bba0bc",
   "metadata": {},
   "source": [
    "# loops structures"
   ]
  },
  {
   "cell_type": "code",
   "execution_count": 12,
   "id": "aa2bac38-e876-4254-8f9a-8b380cd92780",
   "metadata": {},
   "outputs": [
    {
     "name": "stdout",
     "output_type": "stream",
     "text": [
      "1\n",
      "2\n",
      "3\n",
      "4\n",
      "5\n",
      "6\n",
      "7\n",
      "8\n",
      "9\n",
      "10\n"
     ]
    }
   ],
   "source": [
    "# task 1\n",
    "for i in range(1,11):\n",
    "    print(i)"
   ]
  },
  {
   "cell_type": "code",
   "execution_count": 9,
   "id": "6384a2e5-1b2e-4f8a-9ea7-e94de27fb08d",
   "metadata": {},
   "outputs": [
    {
     "name": "stdout",
     "output_type": "stream",
     "text": [
      "1\n",
      "2\n",
      "3\n",
      "4\n",
      "5\n",
      "6\n",
      "7\n",
      "8\n",
      "9\n",
      "10\n"
     ]
    }
   ],
   "source": [
    "# task 2\n",
    "a = 0\n",
    "while a < 10:\n",
    "    print(a+1)\n",
    "    a += 1"
   ]
  },
  {
   "cell_type": "code",
   "execution_count": 13,
   "id": "405d8ece-7114-4b87-81ba-d791000fb27e",
   "metadata": {},
   "outputs": [
    {
     "name": "stdout",
     "output_type": "stream",
     "text": [
      "2\n",
      "4\n",
      "6\n",
      "8\n",
      "10\n"
     ]
    }
   ],
   "source": [
    "# task 3\n",
    "for i in range(1,11):\n",
    "    if i %2 == 0:\n",
    "        print(i)"
   ]
  },
  {
   "cell_type": "code",
   "execution_count": 27,
   "id": "27f04669-1485-4985-9d28-4ddd750900f5",
   "metadata": {},
   "outputs": [
    {
     "name": "stdin",
     "output_type": "stream",
     "text": [
      "enter a number here:  10\n"
     ]
    },
    {
     "name": "stdout",
     "output_type": "stream",
     "text": [
      "1\n",
      "2\n",
      "3\n",
      "4\n",
      "5\n",
      "6\n",
      "7\n",
      "8\n",
      "9\n",
      "10\n"
     ]
    }
   ],
   "source": [
    "# task 4\n",
    "n = int(input('enter a number here: '))\n",
    "for number in range(1, n + 1):\n",
    "    print(number)"
   ]
  },
  {
   "cell_type": "code",
   "execution_count": 29,
   "id": "0a1c9dfb-5e73-49df-9f00-608f8ca22103",
   "metadata": {},
   "outputs": [
    {
     "name": "stdin",
     "output_type": "stream",
     "text": [
      "enter a number here:  12\n"
     ]
    },
    {
     "name": "stdout",
     "output_type": "stream",
     "text": [
      "1\n",
      "3\n",
      "5\n",
      "7\n",
      "9\n",
      "11\n"
     ]
    }
   ],
   "source": [
    "# task 5\n",
    "n = int(input('enter a number here: '))\n",
    "for number in range(1, n + 1):\n",
    "    if number %2 != 0:\n",
    "        print(number)"
   ]
  },
  {
   "cell_type": "code",
   "execution_count": 35,
   "id": "a82a8e11-5d05-4da4-a243-f769aefae0c7",
   "metadata": {},
   "outputs": [
    {
     "name": "stdout",
     "output_type": "stream",
     "text": [
      "happy birhtday!\n",
      "happy birhtday!\n",
      "happy birhtday!\n",
      "happy birhtday!\n",
      "happy birhtday!\n"
     ]
    }
   ],
   "source": [
    "# task 6\n",
    "count = 0\n",
    "while count < 5:\n",
    "    print('happy birhtday!')\n",
    "    count += 1"
   ]
  },
  {
   "cell_type": "code",
   "execution_count": 41,
   "id": "b1f56b59-5c6f-4088-b150-a3de07b8d048",
   "metadata": {},
   "outputs": [
    {
     "name": "stdin",
     "output_type": "stream",
     "text": [
      "enter a number here:  6\n"
     ]
    },
    {
     "name": "stdout",
     "output_type": "stream",
     "text": [
      "1\n",
      "4\n",
      "9\n",
      "16\n",
      "25\n",
      "36\n"
     ]
    }
   ],
   "source": [
    "# task 7\n",
    "n = int(input('enter a number here: '))\n",
    "for number in range(1, n + 1):\n",
    "    \n",
    "    print(number**2)"
   ]
  },
  {
   "cell_type": "code",
   "execution_count": 55,
   "id": "e56ea3f4-89c1-402f-9859-aef00badde22",
   "metadata": {},
   "outputs": [
    {
     "name": "stdin",
     "output_type": "stream",
     "text": [
      "enter a number here:  6\n"
     ]
    },
    {
     "name": "stdout",
     "output_type": "stream",
     "text": [
      "6 x 1 = 6\n",
      "6 x 2 = 12\n",
      "6 x 3 = 18\n",
      "6 x 4 = 24\n",
      "6 x 5 = 30\n",
      "6 x 6 = 36\n",
      "6 x 7 = 42\n",
      "6 x 8 = 48\n",
      "6 x 9 = 54\n",
      "6 x 10 = 60\n",
      "6 x 11 = 66\n",
      "6 x 12 = 72\n"
     ]
    }
   ],
   "source": [
    "# task 8\n",
    "number = int(input('enter a number here: '))\n",
    "for i in range(1, 13):  # Generate numbers from 1 to 10\n",
    "    result = number * i\n",
    "    print(f\"{number} x {i} = {result}\")"
   ]
  },
  {
   "cell_type": "code",
   "execution_count": 77,
   "id": "2de49377-7686-42e2-b434-f4883d650739",
   "metadata": {},
   "outputs": [
    {
     "name": "stdout",
     "output_type": "stream",
     "text": [
      "3\n",
      "7\n",
      "11\n",
      "15\n",
      "19\n",
      "23\n",
      "27\n",
      "31\n"
     ]
    }
   ],
   "source": [
    "# task 9\n",
    "intial = 3\n",
    "print(intial)\n",
    "seq = 0\n",
    "count = 3\n",
    "while seq < 7:\n",
    "    count += 4\n",
    "    print(f'''{count}''')\n",
    "    seq += 1"
   ]
  },
  {
   "cell_type": "code",
   "execution_count": 91,
   "id": "1aabaae1-0d05-4752-8fd2-f3a803d0cf0b",
   "metadata": {},
   "outputs": [
    {
     "name": "stdout",
     "output_type": "stream",
     "text": [
      "2\n",
      "6\n",
      "18\n",
      "54\n",
      "162\n",
      "486\n"
     ]
    }
   ],
   "source": [
    "# task 10\n",
    "intial = 2\n",
    "print(intial)\n",
    "seq = 0\n",
    "count = 2\n",
    "while seq < 5:\n",
    "    count *= 3\n",
    "    print(f'''{count}''')\n",
    "    seq += 1"
   ]
  },
  {
   "cell_type": "code",
   "execution_count": 11,
   "id": "af174faf-c730-4639-9bfd-248d29bf26db",
   "metadata": {},
   "outputs": [
    {
     "name": "stdin",
     "output_type": "stream",
     "text": [
      "enter a number for sum:  10\n"
     ]
    },
    {
     "name": "stdout",
     "output_type": "stream",
     "text": [
      "55\n"
     ]
    }
   ],
   "source": [
    "# task 11\n",
    "number = int(input('enter a number for sum: '))\n",
    "summ = 0\n",
    "for i in range(0,number + 1):\n",
    "    summ += i\n",
    "print(summ)"
   ]
  },
  {
   "cell_type": "code",
   "execution_count": 17,
   "id": "61542efa-558e-4d5f-ac6b-64ff516cf61b",
   "metadata": {},
   "outputs": [
    {
     "name": "stdin",
     "output_type": "stream",
     "text": [
      "enter a number for sum:  5\n"
     ]
    },
    {
     "name": "stdout",
     "output_type": "stream",
     "text": [
      "2.283333333333333\n"
     ]
    }
   ],
   "source": [
    "# task 12\n",
    "number = int(input('enter a number for sum of reciprocals: '))\n",
    "summ = 0\n",
    "for i in range(1,number + 1):\n",
    "    summ += 1/i\n",
    "print(summ)"
   ]
  },
  {
   "cell_type": "code",
   "execution_count": 21,
   "id": "b78624b1-21cc-4c4c-a4f1-b2a75cd0c42c",
   "metadata": {},
   "outputs": [
    {
     "name": "stdin",
     "output_type": "stream",
     "text": [
      "enter a number:  10\n",
      "enter a number:  15\n",
      "enter a number:  35\n",
      "enter a number:  40\n",
      "enter a number:  50\n"
     ]
    },
    {
     "name": "stdout",
     "output_type": "stream",
     "text": [
      "the running total is:150\n"
     ]
    }
   ],
   "source": [
    "# task 13\n",
    "number = int(input('enter a number: '))\n",
    "number2 = int(input('enter a number: '))\n",
    "number3 = int(input('enter a number: '))\n",
    "number4 = int(input('enter a number: '))\n",
    "number5 = int(input('enter a number: '))\n",
    "print(f'the running total is:{number + number2 + number3 + number4 + number5}')"
   ]
  },
  {
   "cell_type": "code",
   "execution_count": 39,
   "id": "d3670bb0-fbc7-4008-a4fc-8cd2fef5bae0",
   "metadata": {},
   "outputs": [
    {
     "name": "stdin",
     "output_type": "stream",
     "text": [
      "enter an integer here:  5\n"
     ]
    },
    {
     "name": "stdout",
     "output_type": "stream",
     "text": [
      "factorial of given number is:120\n"
     ]
    }
   ],
   "source": [
    "# task 14\n",
    "N = int(input('enter an integer here: '))\n",
    "factorial = 1\n",
    "for i in range(1,N + 1):\n",
    "    factorial *= i \n",
    "if N > 0:\n",
    "    print(f'factorial of given number is:{factorial}')\n",
    "elif N < 0:\n",
    "    print('factorial of -ve number does not exist')\n",
    "else:\n",
    "    print('factorial of 0 is 1')"
   ]
  },
  {
   "cell_type": "code",
   "execution_count": 45,
   "id": "6619998f-1867-4472-acf9-d9a01b3e8d06",
   "metadata": {},
   "outputs": [
    {
     "name": "stdin",
     "output_type": "stream",
     "text": [
      "enter a base number:  2\n",
      "enter the exponent:  4\n"
     ]
    },
    {
     "name": "stdout",
     "output_type": "stream",
     "text": [
      "16\n"
     ]
    }
   ],
   "source": [
    "# task 15\n",
    "base = int(input('enter a base number: '))\n",
    "exp = int(input('enter the exponent: '))\n",
    "r = 1\n",
    "for a in range(1,exp+1):\n",
    "    r *= base\n",
    "print(r)"
   ]
  },
  {
   "cell_type": "code",
   "execution_count": null,
   "id": "dda95e52-b7e0-4e6c-abc2-a13fe7e3faed",
   "metadata": {},
   "outputs": [],
   "source": []
  }
 ],
 "metadata": {
  "kernelspec": {
   "display_name": "Python 3 (ipykernel)",
   "language": "python",
   "name": "python3"
  },
  "language_info": {
   "codemirror_mode": {
    "name": "ipython",
    "version": 3
   },
   "file_extension": ".py",
   "mimetype": "text/x-python",
   "name": "python",
   "nbconvert_exporter": "python",
   "pygments_lexer": "ipython3",
   "version": "3.12.7"
  }
 },
 "nbformat": 4,
 "nbformat_minor": 5
}
