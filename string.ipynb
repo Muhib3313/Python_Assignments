{
 "cells": [
  {
   "cell_type": "markdown",
   "id": "6cb62e7c-74f4-450b-8f19-477bbea53493",
   "metadata": {},
   "source": [
    "# string"
   ]
  },
  {
   "cell_type": "code",
   "execution_count": 1,
   "id": "9ec7e90b-870c-431f-b2f4-0d0fd0cd28db",
   "metadata": {},
   "outputs": [
    {
     "name": "stdin",
     "output_type": "stream",
     "text": [
      "enter a word:  asad\n"
     ]
    },
    {
     "name": "stdout",
     "output_type": "stream",
     "text": [
      "number of vowels in the given word are:2\n"
     ]
    }
   ],
   "source": [
    "# task 1\n",
    "word = str(input('enter a word: '))\n",
    "count = 0\n",
    "vowel = 'AEIOUaeiou'\n",
    "for i in word:\n",
    "    if i in vowel:\n",
    "        count += 1\n",
    "print(f'number of vowels in the given word are:{count}')"
   ]
  },
  {
   "cell_type": "code",
   "execution_count": 71,
   "id": "1a6f3fce-6c9a-42b8-9242-bf2d829101ef",
   "metadata": {},
   "outputs": [
    {
     "name": "stdin",
     "output_type": "stream",
     "text": [
      "enter a string:  4500qwert    ASQWEF\n"
     ]
    },
    {
     "name": "stdout",
     "output_type": "stream",
     "text": [
      "number of lower are: 5\n",
      "number of upper are: 6\n",
      "number of digits are: 4\n",
      "number of white are: 4\n"
     ]
    }
   ],
   "source": [
    "# task 2\n",
    "string = input('enter a string: ')\n",
    "iscounter = 0\n",
    "iscounter1 = 0\n",
    "iscounter2 = 0\n",
    "iscounter3 = 0\n",
    "for char in string:\n",
    "        if char.islower():\n",
    "            iscounter += 1\n",
    "        elif char.isupper():\n",
    "            iscounter1 += 1\n",
    "        elif char.isdigit():\n",
    "            iscounter2 += 1\n",
    "        elif char.isspace():\n",
    "            iscounter3 += 1\n",
    "        \n",
    "\n",
    "print(f'number of lower are: {iscounter}')\n",
    "print(f'number of upper are: {iscounter1}')\n",
    "print(f'number of digits are: {iscounter2}')\n",
    "print(f'number of white are: {iscounter3}')"
   ]
  },
  {
   "cell_type": "code",
   "execution_count": 5,
   "id": "af9e4b0c-6c43-4d17-9773-55d15495d545",
   "metadata": {},
   "outputs": [
    {
     "name": "stdin",
     "output_type": "stream",
     "text": [
      "enter a word here:  asadfg\n"
     ]
    },
    {
     "name": "stdout",
     "output_type": "stream",
     "text": [
      "the swapped word is :gsadfa\n"
     ]
    }
   ],
   "source": [
    "# task 3\n",
    "swipper = input('enter a word here: ')\n",
    "if len(swipper) > 1:\n",
    "    swapped_word = swipper[-1]+swipper[1:-1]+swipper[0]\n",
    "else:\n",
    "    swapped_word = swipper\n",
    "print(f'the swapped word is :{swapped_word}')"
   ]
  },
  {
   "cell_type": "code",
   "execution_count": 3,
   "id": "84854040-267a-476c-84bb-8e8550384a02",
   "metadata": {},
   "outputs": [
    {
     "name": "stdin",
     "output_type": "stream",
     "text": [
      "Enter a string:  qwerty\n"
     ]
    },
    {
     "name": "stdout",
     "output_type": "stream",
     "text": [
      "ytrewq\n"
     ]
    }
   ],
   "source": [
    "# task 4\n",
    "user_input = input('Enter a string: ')\n",
    "reverse = user_input[::-1]\n",
    "print(reverse)"
   ]
  },
  {
   "cell_type": "code",
   "execution_count": 75,
   "id": "de6d7136-d77d-4276-89bd-79818392291b",
   "metadata": {},
   "outputs": [
    {
     "name": "stdin",
     "output_type": "stream",
     "text": [
      "enter a word here:  police\n"
     ]
    },
    {
     "name": "stdout",
     "output_type": "stream",
     "text": [
      "olicep\n"
     ]
    }
   ],
   "source": [
    "#task 5\n",
    "user_response = input('enter a word here: ')\n",
    "if len(user_response) > 1 :\n",
    "    swape = user_response[1:]+user_response[0]\n",
    "else: \n",
    "    swap = user_response\n",
    "print(swape)"
   ]
  },
  {
   "cell_type": "code",
   "execution_count": 59,
   "id": "81f479fa-49b6-4eb5-9de9-2de6a8e9f54c",
   "metadata": {},
   "outputs": [
    {
     "name": "stdin",
     "output_type": "stream",
     "text": [
      "enter your first name:  qwerty\n",
      "enter your middle name:  assdf\n",
      "enter your last name asdf\n"
     ]
    },
    {
     "name": "stdout",
     "output_type": "stream",
     "text": [
      "Q . A . A . \n"
     ]
    }
   ],
   "source": [
    "# task 6\n",
    "fname = input('enter your first name: ')\n",
    "mid_name = input('enter your middle name: ')\n",
    "lname = input('enter your last name')\n",
    "print(fname[0].upper()+' . '+mid_name[0].upper()+' . '+lname[0].upper()+' . ')"
   ]
  },
  {
   "cell_type": "code",
   "execution_count": 79,
   "id": "ee8ecf28-24ab-4cc3-be81-47cdaff9953f",
   "metadata": {},
   "outputs": [
    {
     "name": "stdin",
     "output_type": "stream",
     "text": [
      "enter a word here:  bob\n"
     ]
    },
    {
     "name": "stdout",
     "output_type": "stream",
     "text": [
      "the given word is palindrome\n"
     ]
    }
   ],
   "source": [
    "# task 7\n",
    "user_input = input('enter a word here: ')\n",
    "if user_input == user_input[::-1]:\n",
    "    print('the given word is palindrome')\n",
    "else:\n",
    "    print('not a palindrome')"
   ]
  },
  {
   "cell_type": "code",
   "execution_count": 113,
   "id": "174e0297-4224-4d23-9fd1-c32b5f51a612",
   "metadata": {},
   "outputs": [
    {
     "name": "stdin",
     "output_type": "stream",
     "text": [
      "enter a word so that I can shift it:  zionist\n"
     ]
    },
    {
     "name": "stdout",
     "output_type": "stream",
     "text": [
      "zionist\n",
      "ionistz\n",
      "onistzi\n",
      "nistzio\n",
      "istzion\n",
      "stzioni\n",
      "tzionis\n",
      "zionist\n"
     ]
    }
   ],
   "source": [
    "# task 8\n",
    "shift = input('enter a word so that I can shift it: ')\n",
    "shifting = len(shift)\n",
    "for i in range(shifting):\n",
    "    shifted_word = shift[i:]+shift[:i]\n",
    "    print(shifted_word)\n",
    "print(shift)"
   ]
  },
  {
   "cell_type": "code",
   "execution_count": 137,
   "id": "4f070ca2-232b-4c7a-95fe-de352888bba4",
   "metadata": {},
   "outputs": [
    {
     "name": "stdin",
     "output_type": "stream",
     "text": [
      "enter your password:  4512QWa\n"
     ]
    },
    {
     "name": "stdout",
     "output_type": "stream",
     "text": [
      "password must be 8 characters long\n"
     ]
    }
   ],
   "source": [
    "# task 9\n",
    "word = input('enter your password: ')\n",
    "def validate_pass(password):\n",
    "    if len(password) < 8:\n",
    "        return 'password must be 8 characters long'\n",
    "    if not any(char.isupper() for char in password):\n",
    "        return 'password must contain a capital letter'\n",
    "    if not any(char.islower() for char in password):\n",
    "        return 'password must contain a small letter'\n",
    "        return 'password must contain a capital letter'\n",
    "    if not any(char.isdigit() for char in password):\n",
    "        return 'password must contain a digit'\n",
    "    return 'password is valid'\n",
    "validation = validate_pass(word)\n",
    "print(validation)"
   ]
  },
  {
   "cell_type": "code",
   "execution_count": null,
   "id": "21cc4c51-101f-40ec-86aa-6b2a1ea76d22",
   "metadata": {},
   "outputs": [],
   "source": []
  }
 ],
 "metadata": {
  "kernelspec": {
   "display_name": "Python 3 (ipykernel)",
   "language": "python",
   "name": "python3"
  },
  "language_info": {
   "codemirror_mode": {
    "name": "ipython",
    "version": 3
   },
   "file_extension": ".py",
   "mimetype": "text/x-python",
   "name": "python",
   "nbconvert_exporter": "python",
   "pygments_lexer": "ipython3",
   "version": "3.12.7"
  }
 },
 "nbformat": 4,
 "nbformat_minor": 5
}
